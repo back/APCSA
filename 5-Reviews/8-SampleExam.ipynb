{
 "cells": [
  {
   "cell_type": "markdown",
   "id": "039ec98d",
   "metadata": {},
   "source": [
    "# Sample Exam\n",
    "\n",
    "- [College Board: Exam Description](https://apcentral.collegeboard.org/pdf/ap-computer-science-a-course-and-exam-description.pdf?course=ap-computer-science-a)"
   ]
  },
  {
   "cell_type": "code",
   "execution_count": 10,
   "id": "b9daf7c3",
   "metadata": {},
   "outputs": [
    {
     "name": "stdout",
     "output_type": "stream",
     "text": [
      "9\n"
     ]
    }
   ],
   "source": [
    "\n",
    "int a = (int) 3.7 * 3;\n",
    "\n",
    "//double a = 3;\n",
    "\n",
    "System.out.println(a);"
   ]
  },
  {
   "cell_type": "code",
   "execution_count": 18,
   "id": "d360d825",
   "metadata": {},
   "outputs": [
    {
     "name": "stdout",
     "output_type": "stream",
     "text": [
      "10\n"
     ]
    }
   ],
   "source": [
    "//String s = \"abcdefg\".substring(1,3) + \"abcdefg\".substring(3, 5);\n",
    "\n",
    "String s = \"abcdefgabcdefg\";\n",
    "\n",
    "int x = s.indexOf(\"def\", 5);\n",
    "\n",
    "System.out.println(x);"
   ]
  },
  {
   "cell_type": "code",
   "execution_count": 34,
   "id": "4f9da754",
   "metadata": {},
   "outputs": [
    {
     "name": "stdout",
     "output_type": "stream",
     "text": [
      "57\n",
      "31\n",
      "45\n",
      "49\n",
      "62\n",
      "64\n",
      "51\n",
      "38\n",
      "44\n",
      "51\n"
     ]
    }
   ],
   "source": [
    "int x;\n",
    "\n",
    "for(int i = 0; i<10; i++) {\n",
    "    x = (int) ( Math.random() * 40 ) + 30;\n",
    "    System.out.println(x);\n",
    "}\n"
   ]
  },
  {
   "cell_type": "code",
   "execution_count": 35,
   "id": "eadbcaaf",
   "metadata": {},
   "outputs": [
    {
     "data": {
      "text/plain": [
       "false"
      ]
     },
     "execution_count": 35,
     "metadata": {},
     "output_type": "execute_result"
    }
   ],
   "source": [
    "boolean a, b;\n",
    "\n",
    "a && !b && !a                    //     !(b || a)"
   ]
  },
  {
   "cell_type": "code",
   "execution_count": 38,
   "id": "9e6a0518",
   "metadata": {},
   "outputs": [
    {
     "name": "stdout",
     "output_type": "stream",
     "text": [
      "[1, 9, 16, 3136, 2116, 9, 6084, 81]\n"
     ]
    }
   ],
   "source": [
    "int[] nums = {1, 3, 4, 56 , 46, 3, 78, 9};\n",
    "\n",
    "// for (int n: nums) {\n",
    "//     n = n * n;\n",
    "// }\n",
    "\n",
    "for(int i = 0; i< nums.length; i++) {\n",
    "    nums[i] = nums[i] * nums[i];\n",
    "}\n",
    "\n",
    "System.out.println(Arrays.toString(nums));"
   ]
  }
 ],
 "metadata": {
  "kernelspec": {
   "display_name": "Java",
   "language": "java",
   "name": "java"
  },
  "language_info": {
   "codemirror_mode": "java",
   "file_extension": ".jshell",
   "mimetype": "text/x-java-source",
   "name": "Java",
   "pygments_lexer": "java",
   "version": "14.0.2+12-46"
  }
 },
 "nbformat": 4,
 "nbformat_minor": 5
}
