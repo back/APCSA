{
 "cells": [
  {
   "cell_type": "markdown",
   "metadata": {},
   "source": [
    "# Lab 1 - Duke, the Java mascot!\n",
    "\n",
    "Step 1 - Copy the ASCII-Art into a Text File\n",
    "- Go here\n",
    "  - https://hastebin.com/raw/enerajaguc\n",
    "- Ctrl + A\n",
    "- Ctrl + C\n",
    "- Now \"right-click\" your local project name\n",
    "- Select \"New\" -> \"File\"\n",
    "  - Give a name \"duke.txt\"\n",
    "  - Press Enter\n",
    "- Ctrl + V\n",
    "\n",
    "\n",
    "Step 2 - Create a new runnable class\n",
    "- Go here\n",
    "  - https://hastebin.com/raw/omuzumiwis\n",
    "- Ctrl + A\n",
    "- Ctrl + C\n",
    "- Now \"right-click\" your local src folder\n",
    "- Select \"New\" -> \"Java Class\"\n",
    "  - Give any name you like\n",
    "  - Press Enter\n",
    "- Now move cursor into the class body:\n",
    "  - Ctrl + V\n",
    "- Do necessary \"import\" fixes\n",
    "\n",
    "Now you have all you need for a fun Java Lab class!"
   ]
  }
 ],
 "metadata": {
  "kernelspec": {
   "display_name": "Java",
   "language": "java",
   "name": "java"
  },
  "language_info": {
   "codemirror_mode": "java",
   "file_extension": ".jshell",
   "mimetype": "text/x-java-source",
   "name": "Java",
   "pygments_lexer": "java",
   "version": "14.0.2+12-46"
  }
 },
 "nbformat": 4,
 "nbformat_minor": 4
}
