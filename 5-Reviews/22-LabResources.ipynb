{
 "cells": [
  {
   "cell_type": "markdown",
   "metadata": {},
   "source": [
    "### Lab Resources\n",
    "\n",
    "APCSA - Lab Resources\n",
    "- https://apcentral.collegeboard.org/courses/ap-computer-science-a/classroom-resources/lab-resource-page?course=ap-computer-science-a\n",
    "\n",
    "Consumer Review Lab intro\n",
    "- https://runestone.academy/runestone/books/published/csawesome/Unit4-Iteration/ConsumerReviewLab.html\n",
    "\n",
    "APCSA - Data Lab Student Guide\n",
    "- https://apcentral.collegeboard.org/pdf/ap-computer-science-a-celebrity-lab-student-guide.pdf?course=ap-computer-science-a\n"
   ]
  }
 ],
 "metadata": {
  "kernelspec": {
   "display_name": "Java",
   "language": "java",
   "name": "java"
  },
  "language_info": {
   "codemirror_mode": "java",
   "file_extension": ".jshell",
   "mimetype": "text/x-java-source",
   "name": "Java",
   "pygments_lexer": "java",
   "version": "14.0.2+12-46"
  }
 },
 "nbformat": 4,
 "nbformat_minor": 4
}
