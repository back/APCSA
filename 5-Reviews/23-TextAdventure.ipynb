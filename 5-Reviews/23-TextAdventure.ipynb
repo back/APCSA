{
 "cells": [
  {
   "cell_type": "markdown",
   "id": "49cbb4d4",
   "metadata": {},
   "source": [
    "# Text Based Adventure Game\n",
    "### Online Samples\n",
    "- [Spider and Web](https://eblong.com/zarf/zweb/tangle/)\n",
    "- [Night House](http://play2.textadventures.co.uk/Play.aspx?id=7nwoee9ope2_hvfrx8kjvw)\n",
    "- [Dreamhold](http://eblong.com/zarf/zweb/dreamhold/)\n",
    "- [Zork](http://textadventures.co.uk/games/play/5zyoqrsugeopel3ffhz_vq)\n"
   ]
  }
 ],
 "metadata": {
  "kernelspec": {
   "display_name": "Java",
   "language": "java",
   "name": "java"
  },
  "language_info": {
   "codemirror_mode": "java",
   "file_extension": ".jshell",
   "mimetype": "text/x-java-source",
   "name": "Java",
   "pygments_lexer": "java",
   "version": "14.0.2+12-46"
  }
 },
 "nbformat": 4,
 "nbformat_minor": 5
}
