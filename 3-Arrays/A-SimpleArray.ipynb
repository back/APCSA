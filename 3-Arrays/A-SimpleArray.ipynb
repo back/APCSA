{
 "cells": [
  {
   "cell_type": "markdown",
   "metadata": {},
   "source": [
    "# Simple Array\n",
    "\n",
    "### Declaration\n",
    "\n",
    "```Java\n",
    "int[] x;\n",
    "```\n",
    "\n",
    "### Initializer\n",
    "\n",
    "```Java\n",
    "int[] x = {1,2,3,5,6};\n",
    "int[] x = new int[10];\n",
    "```\n",
    "\n",
    "### Length Field\n",
    "\n",
    "```Java\n",
    "x.length   // compare with String.length()\n",
    "```\n",
    "\n",
    "### Indexed Loops\n",
    "- can modify element"
   ]
  },
  {
   "cell_type": "code",
   "execution_count": 1,
   "metadata": {},
   "outputs": [
    {
     "name": "stdout",
     "output_type": "stream",
     "text": [
      "[167, 896, 194, 413, 373, 199, 389, 327, 347, 198]\n"
     ]
    }
   ],
   "source": [
    "int[] x = new int[10];\n",
    "\n",
    "for(int i = 0; i < x.length; i++) {\n",
    "    x[i] = (int) (Math.random() * 1000);\n",
    "}\n",
    "\n",
    "System.out.println(Arrays.toString(x));"
   ]
  },
  {
   "cell_type": "markdown",
   "metadata": {},
   "source": [
    "### Looking for Min/Max values from an array"
   ]
  },
  {
   "cell_type": "code",
   "execution_count": 2,
   "metadata": {},
   "outputs": [
    {
     "name": "stdout",
     "output_type": "stream",
     "text": [
      "Min value: 167\n",
      "Max value: 896\n"
     ]
    }
   ],
   "source": [
    "int min = x[0];\n",
    "int max = x[0];\n",
    "\n",
    "for(int i = 0; i < x.length; i++) {\n",
    "    if (x[i] > max) max = x[i];\n",
    "    if (x[i] < min) min = x[i];\n",
    "}\n",
    "\n",
    "System.out.println(\"Min value: \" + min);\n",
    "System.out.println(\"Max value: \" + max);"
   ]
  },
  {
   "cell_type": "markdown",
   "metadata": {},
   "source": [
    "### for each loop\n",
    "- cannot modify element"
   ]
  },
  {
   "cell_type": "code",
   "execution_count": 3,
   "metadata": {},
   "outputs": [
    {
     "name": "stdout",
     "output_type": "stream",
     "text": [
      "Summary of the list: 3503\n"
     ]
    }
   ],
   "source": [
    "int sum = 0;\n",
    "\n",
    "for(int a : x) {\n",
    "    sum += a;\n",
    "}\n",
    "\n",
    "System.out.println(\"Summary of the list: \" + sum);"
   ]
  },
  {
   "cell_type": "markdown",
   "metadata": {},
   "source": [
    "### Homework\n",
    "\n",
    "Post Chapter Questions\n",
    "- 1 ~ 20\n",
    "\n",
    "\n",
    "Rune Stone Academy\n",
    "- https://runestone.academy/runestone/books/published/apcsareview/ArrayBasics/abasics.html\n",
    "- https://runestone.academy/runestone/books/published/apcsareview/ArrayBasics/aForEach.html\n",
    "- https://runestone.academy/runestone/books/published/apcsareview/ArrayBasics/aLoopFrontToBack.html\n",
    "\n",
    "\n",
    "Practice-It\n",
    "- https://practiceit.cs.washington.edu/problem/list\n",
    "  - Chapter 7\n",
    "\n",
    "\n",
    "Coding Bat\n",
    "- https://codingbat.com/java/Array-1\n"
   ]
  }
 ],
 "metadata": {
  "kernelspec": {
   "display_name": "Java",
   "language": "java",
   "name": "java"
  },
  "language_info": {
   "codemirror_mode": "java",
   "file_extension": ".jshell",
   "mimetype": "text/x-java-source",
   "name": "Java",
   "pygments_lexer": "java",
   "version": "14.0.2+12-46"
  }
 },
 "nbformat": 4,
 "nbformat_minor": 4
}
