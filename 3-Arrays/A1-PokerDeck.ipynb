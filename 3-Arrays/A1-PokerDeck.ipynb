{
 "cells": [
  {
   "cell_type": "markdown",
   "metadata": {},
   "source": [
    "# List of Class\n",
    "\n",
    "---\n",
    "### Preparation: Object.toString()"
   ]
  },
  {
   "cell_type": "code",
   "execution_count": 1,
   "metadata": {},
   "outputs": [
    {
     "name": "stdout",
     "output_type": "stream",
     "text": [
      "[I@6bd075dd\n"
     ]
    }
   ],
   "source": [
    "int[] x = new int[5];\n",
    "System.out.println(x);"
   ]
  },
  {
   "cell_type": "code",
   "execution_count": 2,
   "metadata": {},
   "outputs": [
    {
     "name": "stdout",
     "output_type": "stream",
     "text": [
      "[0, 0, 0, 0, 0]\n"
     ]
    }
   ],
   "source": [
    "System.out.println(Arrays.toString(x));"
   ]
  },
  {
   "cell_type": "markdown",
   "metadata": {},
   "source": [
    "---\n",
    "### Cards -> Deck\n",
    "\n",
    "NumberCard -> PlayingCard => Deck\n",
    "\n",
    "PlayingCard[] = new PlayingCard[52];\n",
    "\n",
    "Deck\n",
    "\n",
    "shuffle()\n",
    "deal()\n",
    "\n",
    "| U+2660 | U+2665 | U+2666 | U+2663 |\n",
    "|--------|--------|--------|--------|\n",
    "| \\u2660 | \\u2665 | \\u2666 | \\u2663 |\n",
    "|   ♠    |   ♥    |   ♦    |   ♣    |"
   ]
  },
  {
   "cell_type": "markdown",
   "metadata": {},
   "source": [
    "### Common Mistakes\n",
    "\n",
    "- forgetting to create the array - only declaring it (int[] nums;)\n",
    "- using 1 as the first index not 0\n",
    "- using array.length as the last valid index in an array, not array.length - 1.\n",
    "- using array.length() instead of array.length (not penalized on the free response)\n",
    "- going out of bounds when looping through an array (using index <= array.length).\n",
    "  - You will get an ArrayIndexOutOfBoundsException."
   ]
  }
 ],
 "metadata": {
  "kernelspec": {
   "display_name": "Java",
   "language": "java",
   "name": "java"
  },
  "language_info": {
   "codemirror_mode": "java",
   "file_extension": ".jshell",
   "mimetype": "text/x-java-source",
   "name": "Java",
   "pygments_lexer": "java",
   "version": "14.0.2+12-46"
  }
 },
 "nbformat": 4,
 "nbformat_minor": 4
}
