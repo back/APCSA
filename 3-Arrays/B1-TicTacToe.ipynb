{
 "cells": [
  {
   "cell_type": "markdown",
   "metadata": {},
   "source": [
    "# Tic-Tac-Toe\n",
    "\n",
    "### Coding the Game\n",
    "\n",
    "- [Replit Share Link](https://replit.com/join/sqghdhvvhn-hanble)\n",
    "\n",
    "### TicTacToe.java\n",
    "- private board\n",
    "- Constructor()\n",
    "- draw()\n",
    "- mark()\n",
    "- checkMark()\n",
    "- checkWinner()\n",
    "- isFull()\n",
    "\n",
    "### Main.java\n",
    "- private static TicTacToe ttt\n",
    "- Main Loop logic:\n",
    "  - playerTurn();\n",
    "  - ttt.draw();\n",
    "  - ttt.checkWinner('X')\n",
    "  - ttt.isFull()\n",
    "  - computerTurn();\n",
    "  - ttt.draw();\n",
    "  - ttt.checkWinner('O')"
   ]
  }
 ],
 "metadata": {
  "kernelspec": {
   "display_name": "Java",
   "language": "java",
   "name": "java"
  },
  "language_info": {
   "codemirror_mode": "java",
   "file_extension": ".jshell",
   "mimetype": "text/x-java-source",
   "name": "Java",
   "pygments_lexer": "java",
   "version": "14.0.2+12-46"
  }
 },
 "nbformat": 4,
 "nbformat_minor": 4
}
