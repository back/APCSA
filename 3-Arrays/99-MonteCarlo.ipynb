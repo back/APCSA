{
 "cells": [
  {
   "cell_type": "markdown",
   "metadata": {},
   "source": [
    "# Monte Carlo Simulation\n",
    "https://en.wikipedia.org/wiki/Monte_Carlo_method\n",
    "\n",
    "---\n",
    "How to calculate $\\pi$ with random numbers\n",
    "---\n",
    "[An animated GIF showing Monte Carlo process](https://upload.wikimedia.org/wikipedia/commons/8/84/Pi_30K.gif)"
   ]
  },
  {
   "cell_type": "code",
   "execution_count": 2,
   "metadata": {},
   "outputs": [
    {
     "name": "stdout",
     "output_type": "stream",
     "text": [
      "3.1415262085847377\n"
     ]
    }
   ],
   "source": [
    "int i=0, j=0;\n",
    "while(i++ < 100000000) {\n",
    "    double x = Math.random();\n",
    "    double y = Math.random();\n",
    "    if (x*x + y*y < 1.0) j++;\n",
    "}\n",
    "System.out.println(j*4.0/i)"
   ]
  }
 ],
 "metadata": {
  "kernelspec": {
   "display_name": "Java",
   "language": "java",
   "name": "java"
  },
  "language_info": {
   "codemirror_mode": "java",
   "file_extension": ".jshell",
   "mimetype": "text/x-java-source",
   "name": "Java",
   "pygments_lexer": "java",
   "version": "14.0.2+12-46"
  }
 },
 "nbformat": 4,
 "nbformat_minor": 4
}
