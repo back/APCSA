{
 "cells": [
  {
   "cell_type": "markdown",
   "metadata": {},
   "source": [
    "# 2-Dimentional Array (Matrix)\n",
    "### Initialization\n",
    "- Method I: with values prefilled.\n",
    "- Method II: only have size defined."
   ]
  },
  {
   "cell_type": "code",
   "execution_count": 22,
   "metadata": {},
   "outputs": [],
   "source": [
    "int[][] x = {{1, 2}, {5, 7}, {-1, 300}};\n",
    "String[][] s = new String[5][9];"
   ]
  },
  {
   "cell_type": "markdown",
   "metadata": {},
   "source": [
    "### Size of the array\n",
    "- Rows and Columns\n",
    "  - x.length: \"how many rows\" in the array\n",
    "  - x[0].length: \"how many columns\" in the array\n",
    "  \n",
    "> Note: APCSA course does not require to process 2-D arrays with differnt row sizes. It focuses on \"rectanglar\" 2-D arrays only. Under this restriction, sometimes we could also refer to the rows and columns as the \"Heigth and Width\" of the array.\n"
   ]
  },
  {
   "cell_type": "code",
   "execution_count": 23,
   "metadata": {},
   "outputs": [
    {
     "name": "stdout",
     "output_type": "stream",
     "text": [
      "3\n",
      "2\n"
     ]
    }
   ],
   "source": [
    "System.out.println(x.length);     // rows or height\n",
    "System.out.println(x[0].length);  // columns or width"
   ]
  },
  {
   "cell_type": "markdown",
   "metadata": {},
   "source": [
    "### Iteration for Traverse\n",
    "\n",
    "- Double Index Loop (get value)"
   ]
  },
  {
   "cell_type": "code",
   "execution_count": 26,
   "metadata": {},
   "outputs": [
    {
     "name": "stdout",
     "output_type": "stream",
     "text": [
      "1,5,-1,2,7,300,"
     ]
    }
   ],
   "source": [
    "for (int i = 0; i < x.length; i++)\n",
    "    for(int j = 0; j < x[0].length; j++)\n",
    "        System.out.print(x[i][j] + \",\");"
   ]
  },
  {
   "cell_type": "markdown",
   "metadata": {},
   "source": [
    "- Double Index Loop (set value)\n",
    "> From the ASCII table, the range of [32,126] are all printable characters"
   ]
  },
  {
   "cell_type": "code",
   "execution_count": 29,
   "metadata": {},
   "outputs": [],
   "source": [
    "for (int i = 0; i < s.length; i++)\n",
    "    for(int j = 0; j < s[i].length; j++)\n",
    "        s[i][j] = Character.toString((int)(Math.random()*95 + 32));"
   ]
  },
  {
   "cell_type": "markdown",
   "metadata": {},
   "source": [
    "- ForEach loop\n",
    "> Note: you can mix up the two styles of looping..."
   ]
  },
  {
   "cell_type": "code",
   "execution_count": 30,
   "metadata": {},
   "outputs": [
    {
     "name": "stdout",
     "output_type": "stream",
     "text": [
      "\"C\", \"_\", \"3\", \"o\", \"\"\", \"5\", \"u\", \"s\", \"x\", \n",
      "\"r\", \"g\", \"w\", \"'\", \"b\", \";\", \"?\", \"7\", \"9\", \n",
      "\"E\", \")\", \"F\", \"~\", \"q\", \"6\", \"]\", \"K\", \"v\", \n",
      "\"|\", \"T\", \"P\", \")\", \"X\", \";\", \"$\", \"9\", \"M\", \n",
      "\"3\", \"2\", \"#\", \"f\", \"l\", \"V\", \"(\", \"f\", \"`\", \n"
     ]
    }
   ],
   "source": [
    "for(String[] row : s) {\n",
    "    for(String item : row)\n",
    "        System.out.print(\"\\\"\" + item + \"\\\", \");\n",
    "    System.out.println();\n",
    "}"
   ]
  },
  {
   "cell_type": "markdown",
   "metadata": {},
   "source": [
    "### Arrays of Arrays\n",
    "> 2-D Array is treated as 1 dimentional array at top level;\n",
    "\n",
    "> Only the items inside the top level array are each an sub array\n",
    "\n",
    "- Index Loop has most flexibilities\n",
    "  - Row-major order\n",
    "  - column-major order\n",
    "  - Random order\n",
    "  - Update the items"
   ]
  },
  {
   "cell_type": "markdown",
   "metadata": {},
   "source": [
    "### Homework\n",
    "\n",
    "Textbook\n",
    "Post Chapter Questions (read the book)\n",
    "\n",
    "Rune Stone\n",
    "- https://runestone.academy/runestone/books/published/apcsareview/Array2dBasics/toctree.html\n",
    "\n",
    "Key Section\n",
    "- https://runestone.academy/runestone/books/published/apcsareview/Array2dBasics/a2dLoop.html#looping-through-a-2d-array\n",
    "\n",
    "Pick one of the 4 free response questions to fully work through:\n",
    "- https://runestone.academy/runestone/books/published/apcsareview/Array2dBasics/freeResponse.html\n",
    "\n",
    "Practice-It!\n",
    "- https://practiceit.cs.washington.edu/problem/list\n",
    "  - Chapter 7: Self-check\n",
    "  - 7.31 ~ 7.35, 7.19 ~ 7.20\n",
    "\n",
    "Or, using the below search:\n",
    "- https://practiceit.cs.washington.edu/problem/search?keyword=2D+arrays\n",
    "\n",
    "\n",
    "Coding Bat\n",
    "- https://codingbat.com/java/Array-2"
   ]
  }
 ],
 "metadata": {
  "kernelspec": {
   "display_name": "Java",
   "language": "java",
   "name": "java"
  },
  "language_info": {
   "codemirror_mode": "java",
   "file_extension": ".jshell",
   "mimetype": "text/x-java-source",
   "name": "Java",
   "pygments_lexer": "java",
   "version": "14.0.2+12-46"
  }
 },
 "nbformat": 4,
 "nbformat_minor": 4
}
