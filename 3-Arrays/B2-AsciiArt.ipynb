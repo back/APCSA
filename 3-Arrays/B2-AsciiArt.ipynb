{
 "cells": [
  {
   "cell_type": "markdown",
   "metadata": {},
   "source": [
    "# ASCII ART Lab\n",
    "- [ASCII ART generator](https://manytools.org/hacker-tools/convert-images-to-ascii-art/)\n",
    "\n",
    "### Read the File"
   ]
  },
  {
   "cell_type": "code",
   "execution_count": null,
   "metadata": {},
   "outputs": [],
   "source": [
    "int R=36, C=80;\n",
    "char[][] arts = new char[R][C];\n",
    "\n",
    "Scanner sc = new Scanner(new File(\"Z-art.txt\"));\n",
    "for (int i = 0; i<arts.length; i++)\n",
    "    arts[i] = sc.nextLine().toCharArray();\n",
    "sc.close();"
   ]
  },
  {
   "cell_type": "markdown",
   "metadata": {},
   "source": [
    "### Display the 2D array of characters"
   ]
  },
  {
   "cell_type": "code",
   "execution_count": null,
   "metadata": {},
   "outputs": [],
   "source": [
    "for(char[] row : arts) {\n",
    "    for(char c : row)\n",
    "        System.out.print(c);\n",
    "    System.out.println();\n",
    "}"
   ]
  },
  {
   "cell_type": "markdown",
   "metadata": {},
   "source": [
    "### Mirror?"
   ]
  },
  {
   "cell_type": "code",
   "execution_count": null,
   "metadata": {},
   "outputs": [],
   "source": [
    "for(int row=0; row<R; row++)\n",
    "    for(int col=0; col<C/2; col++) {\n",
    "        char c = arts[row][col];\n",
    "        arts[row][col] = arts[row][C-1-col];\n",
    "        arts[row][C-1-col] = c;\n",
    "    }"
   ]
  },
  {
   "cell_type": "markdown",
   "metadata": {},
   "source": [
    "### Flip?"
   ]
  },
  {
   "cell_type": "code",
   "execution_count": null,
   "metadata": {},
   "outputs": [],
   "source": [
    "for(int row=0; row<R/2; row++){\n",
    "    char[] line = arts[row];\n",
    "    arts[row] = arts[R-1-row];\n",
    "    arts[R-1-row] = line;\n",
    "}"
   ]
  },
  {
   "cell_type": "markdown",
   "metadata": {},
   "source": [
    "### Rotate? (challenging)"
   ]
  },
  {
   "cell_type": "code",
   "execution_count": null,
   "metadata": {},
   "outputs": [],
   "source": [
    "char[][] arts2 = new char[C][R];\n",
    "// ... How to do it?"
   ]
  }
 ],
 "metadata": {
  "kernelspec": {
   "display_name": "Java",
   "language": "java",
   "name": "java"
  },
  "language_info": {
   "codemirror_mode": "java",
   "file_extension": ".jshell",
   "mimetype": "text/x-java-source",
   "name": "Java",
   "pygments_lexer": "java",
   "version": "14.0.2+12-46"
  }
 },
 "nbformat": 4,
 "nbformat_minor": 4
}
