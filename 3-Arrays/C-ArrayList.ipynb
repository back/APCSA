{
 "cells": [
  {
   "cell_type": "markdown",
   "metadata": {},
   "source": [
    "# ArrayList Class\n",
    "\n",
    "\n",
    "- ArrayList\n",
    "  - constructor\n",
    "    - Strong Typed\n",
    "  - size()\n",
    "  - add( E )\n",
    "  - add( index, E )\n",
    "  - get(index)\n",
    "  - set(index, E)\n",
    "  - remove(index)\n",
    "\n",
    "\n",
    "- auto-boxing\n",
    "- auto-unboxing\n",
    "\n",
    "\n",
    "- Indexed Loop\n",
    "- Foreach Loop\n",
    "- Iterator Loop\n",
    "  - .iterator()\n",
    "  - it.hasNext()\n",
    "  - it.next()\n",
    "\n",
    "### Compare Simple Array and List\n",
    "\n",
    "- https://runestone.academy/runestone/books/published/apcsareview/ListBasics/listVsArray.html\n",
    "\n",
    "### In Class Excercises\n",
    "\n",
    "- https://runestone.academy/runestone/books/published/apcsareview/ListBasics/listEasyMC.html\n"
   ]
  },
  {
   "cell_type": "markdown",
   "metadata": {},
   "source": [
    "### Matrix(2D) Declaration\n",
    "```Java\n",
    "int[][] a = new int[10][5];\n",
    "\n",
    "ArrayList<ArrayList<Integer>> b = new ArrayList<ArrayList<Integer>>();\n",
    "```\n",
    "- [Diamond <> Operator](https://www.baeldung.com/java-diamond-operator#operator)\n",
    "```Java\n",
    "ArrayList<ArrayList<Integer>> b = new ArrayList<>();\n",
    "```"
   ]
  },
  {
   "cell_type": "markdown",
   "metadata": {},
   "source": [
    "### Homework\n",
    "\n",
    "- Post-Chapter Questions\n",
    "  - 21 ~ 26\n",
    "\n",
    "\n",
    "- Rune Stone\n",
    "- https://runestone.academy/runestone/books/published/apcsareview/ListBasics/listLoop.html\n",
    "- https://runestone.academy/runestone/books/published/apcsareview/ListBasics/listMethods.html#removing-an-object-at-an-index\n",
    "\n",
    "\n",
    "- Practice-It!\n",
    "  - https://practiceit.cs.washington.edu/problem/list (Chapter 10)\n"
   ]
  }
 ],
 "metadata": {
  "kernelspec": {
   "display_name": "Java",
   "language": "java",
   "name": "java"
  },
  "language_info": {
   "codemirror_mode": "java",
   "file_extension": ".jshell",
   "mimetype": "text/x-java-source",
   "name": "Java",
   "pygments_lexer": "java",
   "version": "14.0.2+12-46"
  }
 },
 "nbformat": 4,
 "nbformat_minor": 4
}
