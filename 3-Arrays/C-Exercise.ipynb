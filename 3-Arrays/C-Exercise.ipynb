{
 "cells": [
  {
   "cell_type": "markdown",
   "id": "a4754559",
   "metadata": {},
   "source": [
    "# Exercises on Array\n",
    "\n",
    "### Declare a 20 items array for integers"
   ]
  },
  {
   "cell_type": "code",
   "execution_count": 6,
   "id": "aa519645",
   "metadata": {},
   "outputs": [
    {
     "name": "stdout",
     "output_type": "stream",
     "text": [
      "[0, 0, 0, 0, 0, 0, 0, 0, 0, 0, 0, 0, 0, 0, 0, 0, 0, 0, 0, 0]\n"
     ]
    }
   ],
   "source": [
    "int[] x = new int[20];\n",
    "\n",
    "System.out.println( Arrays.toString(x) );"
   ]
  },
  {
   "cell_type": "markdown",
   "id": "a8072fb3",
   "metadata": {},
   "source": [
    "### Fill it with a specific value\n",
    "\n",
    "How to fill in entire list with value of: 5?\n",
    "\n",
    "Instead of:\n",
    "    x[0] = 5;\n",
    "    x[1] = 5;\n",
    "    x[2] = 5;\n",
    "    ..."
   ]
  },
  {
   "cell_type": "code",
   "execution_count": 7,
   "id": "1f5f8461",
   "metadata": {},
   "outputs": [
    {
     "name": "stdout",
     "output_type": "stream",
     "text": [
      "[5, 5, 5, 5, 5, 5, 5, 5, 5, 5, 5, 5, 5, 5, 5, 5, 5, 5, 5, 5]\n"
     ]
    }
   ],
   "source": [
    "for(int i = 0; i < 20; i++) {\n",
    "    x[i] = 5;\n",
    "}\n",
    "\n",
    "System.out.println( Arrays.toString(x) );"
   ]
  },
  {
   "cell_type": "markdown",
   "id": "4a8ad6ba",
   "metadata": {},
   "source": [
    "### Fill it with sequencial values\n",
    "\n",
    "How to fill in sequence like:  1, 2, 3, 4, ... 20."
   ]
  },
  {
   "cell_type": "code",
   "execution_count": 9,
   "id": "0e263fbc",
   "metadata": {},
   "outputs": [
    {
     "name": "stdout",
     "output_type": "stream",
     "text": [
      "[2, 4, 6, 8, 10, 12, 14, 16, 18, 20, 22, 24, 26, 28, 30, 32, 34, 36, 38, 40]\n"
     ]
    }
   ],
   "source": [
    "for(int i = 0; i < 20; i++) {\n",
    "    x[i] = (i + 1) * 2;\n",
    "}\n",
    "\n",
    "System.out.println( Arrays.toString(x) );"
   ]
  },
  {
   "cell_type": "markdown",
   "id": "a6682b3f",
   "metadata": {},
   "source": [
    "### Fill it with conditional values\n",
    "\n",
    "- Start from number 1\n",
    "- Each one following is *previous one* times 2\n"
   ]
  },
  {
   "cell_type": "code",
   "execution_count": 10,
   "id": "7b6bb429",
   "metadata": {},
   "outputs": [
    {
     "name": "stdout",
     "output_type": "stream",
     "text": [
      "[1, 2, 4, 8, 16, 32, 64, 128, 256, 512, 1024, 2048, 4096, 8192, 16384, 32768, 65536, 131072, 262144, 524288]\n"
     ]
    }
   ],
   "source": [
    "x[0] = 1;\n",
    "\n",
    "for(int i = 1; i < 20; i++) {\n",
    "    x[i] = x[i-1] * 2;  // previous one * 2\n",
    "}\n",
    "\n",
    "System.out.println( Arrays.toString(x) );"
   ]
  },
  {
   "cell_type": "markdown",
   "id": "1df5c3fe",
   "metadata": {},
   "source": [
    "### Fibonacci Sequence\n",
    "\n",
    "- First number is: 1\n",
    "- Second number is : 1\n",
    "- Every following number is the sum of previous **two** numbers"
   ]
  },
  {
   "cell_type": "code",
   "execution_count": 11,
   "id": "168181c5",
   "metadata": {},
   "outputs": [
    {
     "name": "stdout",
     "output_type": "stream",
     "text": [
      "[1, 1, 2, 3, 5, 8, 13, 21, 34, 55, 89, 144, 233, 377, 610, 987, 1597, 2584, 4181, 6765]\n"
     ]
    }
   ],
   "source": [
    "x[0] = 1;\n",
    "x[1] = 1;\n",
    "\n",
    "for(int i = 2; i < 20; i++) {\n",
    "    x[i] = x[i-1] + x[i-2]; \n",
    "}\n",
    "\n",
    "System.out.println( Arrays.toString(x) );"
   ]
  },
  {
   "cell_type": "markdown",
   "id": "c7ad54c7",
   "metadata": {},
   "source": [
    "### More logic with conditional values\n",
    "\n",
    "- Start with: 1\n",
    "- Even index: * 3 - 1\n",
    "- Odd index : / 2 + 5"
   ]
  },
  {
   "cell_type": "code",
   "execution_count": null,
   "id": "791087f0",
   "metadata": {},
   "outputs": [],
   "source": []
  },
  {
   "cell_type": "markdown",
   "id": "754fba47",
   "metadata": {},
   "source": [
    "### Fill it with random values"
   ]
  },
  {
   "cell_type": "code",
   "execution_count": null,
   "id": "111d63a9",
   "metadata": {},
   "outputs": [],
   "source": []
  }
 ],
 "metadata": {
  "kernelspec": {
   "display_name": "Java",
   "language": "java",
   "name": "java"
  },
  "language_info": {
   "codemirror_mode": "java",
   "file_extension": ".jshell",
   "mimetype": "text/x-java-source",
   "name": "Java",
   "pygments_lexer": "java",
   "version": "14.0.2+12-46"
  }
 },
 "nbformat": 4,
 "nbformat_minor": 5
}
