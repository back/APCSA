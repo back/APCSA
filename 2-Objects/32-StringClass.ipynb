{
 "cells": [
  {
   "cell_type": "markdown",
   "metadata": {},
   "source": [
    "# String Class\n",
    "---\n",
    "As literals\n",
    "---"
   ]
  },
  {
   "cell_type": "code",
   "execution_count": null,
   "metadata": {},
   "outputs": [],
   "source": [
    "System.out.println(\"Hello, world!\");"
   ]
  },
  {
   "cell_type": "markdown",
   "metadata": {},
   "source": [
    "---\n",
    "A quick review on: Escape Character\n",
    "---"
   ]
  },
  {
   "cell_type": "code",
   "execution_count": null,
   "metadata": {},
   "outputs": [],
   "source": [
    "System.out.println(\"The coach always yells at us, \\\"Never give up!\\\"\");\n",
    "\n",
    "System.out.println(\"\\nA ship-shipping ship\\nships\\n\\tshipping-ships.\");"
   ]
  },
  {
   "cell_type": "markdown",
   "metadata": {},
   "source": [
    "---\n",
    "As variables\n",
    "---"
   ]
  },
  {
   "cell_type": "code",
   "execution_count": null,
   "metadata": {},
   "outputs": [],
   "source": [
    "String s = \"Hello, world!\";\n",
    "System.out.println(s);"
   ]
  },
  {
   "cell_type": "markdown",
   "metadata": {},
   "source": [
    "---\n",
    "It's a Class\n",
    "---\n",
    "It has attributes and methods!\n",
    "Fully documentations are here:\n",
    "- https://docs.oracle.com/en/java/javase/15/docs/api/java.base/java/lang/String.html"
   ]
  },
  {
   "cell_type": "code",
   "execution_count": null,
   "metadata": {},
   "outputs": [],
   "source": [
    "s = \"         Hello, world!     \";\n",
    "\n",
    "System.out.println(s.length());\n",
    "\n",
    "System.out.println(s.isEmpty());\n",
    "\n",
    "System.out.println(s.trim());"
   ]
  },
  {
   "cell_type": "markdown",
   "metadata": {},
   "source": [
    "---\n",
    "charAt()\n",
    "---"
   ]
  },
  {
   "cell_type": "code",
   "execution_count": null,
   "metadata": {},
   "outputs": [],
   "source": [
    "s = s.trim();\n",
    "System.out.println(s.charAt(0));\n",
    "System.out.println(s.charAt(3));\n",
    "System.out.println(s.charAt(7));\n",
    "System.out.println(s.charAt(11));\n",
    "\n",
    "System.out.println(s.charAt(  s.length() - 1   ));"
   ]
  },
  {
   "cell_type": "markdown",
   "metadata": {},
   "source": [
    "---\n",
    "indexOf()\n",
    "---"
   ]
  },
  {
   "cell_type": "code",
   "execution_count": null,
   "metadata": {},
   "outputs": [],
   "source": [
    "System.out.println(s.indexOf(\"e\"));\n",
    "System.out.println(s.indexOf(\",\"));\n",
    "System.out.println(s.indexOf(\"Hello\"));\n",
    "\n",
    "System.out.println(s.indexOf(\"=\"));"
   ]
  },
  {
   "cell_type": "markdown",
   "metadata": {},
   "source": [
    "---\n",
    "replace()\n",
    "---"
   ]
  },
  {
   "cell_type": "code",
   "execution_count": null,
   "metadata": {},
   "outputs": [],
   "source": [
    "System.out.println(s.replace(\"o\", \"ZZZ\"));"
   ]
  },
  {
   "cell_type": "markdown",
   "metadata": {},
   "source": [
    "---\n",
    "substring()\n",
    "---"
   ]
  },
  {
   "cell_type": "code",
   "execution_count": null,
   "metadata": {},
   "outputs": [],
   "source": [
    "System.out.println(s.substring(7));\n",
    "System.out.println(s.substring(7,11));   // [7, 11)"
   ]
  },
  {
   "cell_type": "markdown",
   "metadata": {},
   "source": [
    "---\n",
    "equals()\n",
    "---"
   ]
  },
  {
   "cell_type": "code",
   "execution_count": null,
   "metadata": {},
   "outputs": [],
   "source": [
    "String a = \"Hello, world!\";\n",
    "String b = a.substring(0, 6) + a.substring(6);\n",
    "\n",
    "System.out.println(a);\n",
    "System.out.println(b);\n",
    "\n",
    "System.out.println(a == b);"
   ]
  },
  {
   "cell_type": "code",
   "execution_count": null,
   "metadata": {},
   "outputs": [],
   "source": [
    "System.out.println(a == b);\n",
    "System.out.println(a.equals(b));\n",
    "System.out.println(b.equals(a));"
   ]
  },
  {
   "cell_type": "code",
   "execution_count": null,
   "metadata": {},
   "outputs": [],
   "source": [
    "b = a.replace(\"o\", \"O\");\n",
    "\n",
    "System.out.println(a);\n",
    "System.out.println(b);\n",
    "\n",
    "System.out.println( a.equals(b)  );\n",
    "System.out.println( a.equalsIgnoreCase(b)  );"
   ]
  }
 ],
 "metadata": {
  "kernelspec": {
   "display_name": "Java",
   "language": "java",
   "name": "java"
  },
  "language_info": {
   "codemirror_mode": "java",
   "file_extension": ".jshell",
   "mimetype": "text/x-java-source",
   "name": "Java",
   "pygments_lexer": "java",
   "version": "14.0.2+12-46"
  }
 },
 "nbformat": 4,
 "nbformat_minor": 4
}
