{
 "cells": [
  {
   "cell_type": "markdown",
   "metadata": {},
   "source": [
    "# Functions\n",
    "- Function is a group of statements\n",
    "- Reusable (as a **statement**)\n",
    "- Can be flexible with different **parameters**\n",
    "---\n",
    "Keyword\n",
    "---\n",
    "- **void** (as a type)"
   ]
  },
  {
   "cell_type": "code",
   "execution_count": 2,
   "metadata": {},
   "outputs": [
    {
     "name": "stdout",
     "output_type": "stream",
     "text": [
      "3\n",
      "16\n",
      "24\n",
      "20\n",
      "3\n",
      "3\n",
      "3\n",
      "3\n"
     ]
    }
   ],
   "source": [
    "void printSummary ( int a, int b ) {\n",
    "    System.out.println( a + b );\n",
    "}\n",
    "\n",
    "printSummary(1, 2);\n",
    "printSummary(14, 2);\n",
    "printSummary(22, 2);\n",
    "printSummary(18, 2);\n",
    "printSummary(1, 2);\n",
    "printSummary(1, 2);\n",
    "printSummary(1, 2);\n",
    "printSummary(1, 2);"
   ]
  },
  {
   "cell_type": "markdown",
   "metadata": {},
   "source": [
    "---\n",
    "Keyword\n",
    "---\n",
    "- **return** (as a statement)"
   ]
  },
  {
   "cell_type": "code",
   "execution_count": 6,
   "metadata": {},
   "outputs": [
    {
     "name": "stdout",
     "output_type": "stream",
     "text": [
      "3"
     ]
    }
   ],
   "source": [
    "int summary ( int a, int b ) {\n",
    "    return a + b;\n",
    "}\n",
    "\n",
    "int x = summary(1,2);\n",
    "System.out.print(x);"
   ]
  },
  {
   "cell_type": "markdown",
   "metadata": {},
   "source": [
    "---\n",
    "A bit more calculation\n",
    "---"
   ]
  },
  {
   "cell_type": "code",
   "execution_count": 3,
   "metadata": {},
   "outputs": [
    {
     "name": "stdout",
     "output_type": "stream",
     "text": [
      "There is no real solutions.\n",
      "The answers are: -1.0, -1.4\n",
      "The answers are: 1.5916326326489787, -0.4487754897918358\n"
     ]
    }
   ],
   "source": [
    "void solveQuadratic(int a, int b, int c) {\n",
    "    \n",
    "    if (b*b < 4*a*c) {\n",
    "        System.out.println(\"There is no real solutions.\");\n",
    "        return;\n",
    "    }\n",
    "    \n",
    "    double tmp = Math.sqrt(b*b - 4*a*c);\n",
    "    \n",
    "    double answer1 = (-b + tmp) / (2.0 * a);\n",
    "    double answer2 = (-b - tmp) / (2.0 * a);\n",
    "    \n",
    "    System.out.println(\"The answers are: \" + answer1 + \", \" + answer2);\n",
    "}\n",
    "\n",
    "solveQuadratic(3, 4, 5);\n",
    "solveQuadratic(5, 12, 7);\n",
    "solveQuadratic(7, -8, -5);"
   ]
  },
  {
   "cell_type": "markdown",
   "metadata": {},
   "source": [
    "---\n",
    "Parameter List\n",
    "---\n",
    "- Only declarations needed\n",
    "- They are all _dummy_ variables (as placehoders)\n",
    "- The passed in value will be **copied**!"
   ]
  },
  {
   "cell_type": "code",
   "execution_count": 1,
   "metadata": {},
   "outputs": [
    {
     "name": "stdout",
     "output_type": "stream",
     "text": [
      "100,200\n"
     ]
    }
   ],
   "source": [
    "void swap (int a, int b) {\n",
    "    int tmp = a;\n",
    "    a = b;\n",
    "    b = tmp;\n",
    "}\n",
    "\n",
    "int a = 100;\n",
    "int b = 200;\n",
    "\n",
    "swap(a, b);\n",
    "\n",
    "System.out.println(a + \",\" + b);"
   ]
  },
  {
   "cell_type": "markdown",
   "metadata": {},
   "source": [
    "---\n",
    "### By Reference or By Value?\n",
    "- https://www.google.com/search?q=java+pass+by+reference+or+by+value"
   ]
  },
  {
   "cell_type": "markdown",
   "metadata": {},
   "source": [
    "---\n",
    "Homework\n",
    "---\n",
    "\n",
    "https://runestone.academy/runestone/books/published/apcsareview/JavaBasics/firstOOClass.html\n",
    "https://runestone.academy/runestone/books/published/apcsareview/OOBasics/objectsAndClasses.html\n",
    "\n"
   ]
  }
 ],
 "metadata": {
  "kernelspec": {
   "display_name": "Java",
   "language": "java",
   "name": "java"
  },
  "language_info": {
   "codemirror_mode": "java",
   "file_extension": ".jshell",
   "mimetype": "text/x-java-source",
   "name": "Java",
   "pygments_lexer": "java",
   "version": "14.0.2+12-46"
  }
 },
 "nbformat": 4,
 "nbformat_minor": 4
}
