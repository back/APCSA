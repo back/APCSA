{
 "cells": [
  {
   "cell_type": "markdown",
   "metadata": {},
   "source": [
    "# Wrapper Classes\n",
    "---\n",
    "Integer\n",
    "---\n",
    "https://docs.oracle.com/en/java/javase/11/docs/api/java.base/java/lang/Integer.html"
   ]
  },
  {
   "cell_type": "code",
   "execution_count": 13,
   "metadata": {},
   "outputs": [
    {
     "name": "stdout",
     "output_type": "stream",
     "text": [
      "10\n",
      "123\n",
      "6\n",
      "10\n"
     ]
    }
   ],
   "source": [
    "Integer a = new Integer(10);\n",
    "System.out.println(a);\n",
    "\n",
    "int i = Integer.valueOf(\"1\" + \"2\" + \"3\");\n",
    "System.out.println(i);\n",
    "\n",
    "int j = Integer.valueOf(1 + 2 + 3);\n",
    "System.out.println(j);\n",
    "\n",
    "int k = Integer.valueOf(\"1010\", 2);\n",
    "System.out.println(k);\n"
   ]
  },
  {
   "cell_type": "markdown",
   "metadata": {},
   "source": [
    "---\n",
    "Double\n",
    "---\n",
    "https://docs.oracle.com/en/java/javase/11/docs/api/java.base/java/lang/Double.html"
   ]
  },
  {
   "cell_type": "code",
   "execution_count": 4,
   "metadata": {},
   "outputs": [
    {
     "name": "stdout",
     "output_type": "stream",
     "text": [
      "36.089\n"
     ]
    }
   ],
   "source": [
    "Double d = 34.689;      //Java automatically replace this value with a new wrapper object:  new Double(34.689);\n",
    "System.out.println(d + 1.4);"
   ]
  },
  {
   "cell_type": "markdown",
   "metadata": {},
   "source": [
    "---\n",
    "Boolean\n",
    "---\n",
    "https://docs.oracle.com/en/java/javase/11/docs/api/java.base/java/lang/Boolean.html"
   ]
  },
  {
   "cell_type": "code",
   "execution_count": null,
   "metadata": {},
   "outputs": [],
   "source": [
    "Boolean x = a < d;\n",
    "System.out.println(x);"
   ]
  },
  {
   "cell_type": "markdown",
   "metadata": {},
   "source": [
    "---\n",
    "equals()\n",
    "---"
   ]
  },
  {
   "cell_type": "code",
   "execution_count": 15,
   "metadata": {},
   "outputs": [
    {
     "name": "stdout",
     "output_type": "stream",
     "text": [
      "10\n",
      "0\n",
      "false\n"
     ]
    }
   ],
   "source": [
    "System.out.println(a);\n",
    "Integer b = new Integer(10);\n",
    "System.out.println(a - b);\n",
    "System.out.println(a == b);"
   ]
  },
  {
   "cell_type": "code",
   "execution_count": 16,
   "metadata": {},
   "outputs": [
    {
     "name": "stdout",
     "output_type": "stream",
     "text": [
      "true\n"
     ]
    }
   ],
   "source": [
    "System.out.println(a.equals(b));"
   ]
  },
  {
   "cell_type": "markdown",
   "metadata": {},
   "source": [
    "---\n",
    "Boxing & Unboxing\n",
    "---\n",
    "Java automatically do the **boxing** and **unboxing** for us."
   ]
  },
  {
   "cell_type": "code",
   "execution_count": 9,
   "metadata": {},
   "outputs": [
    {
     "name": "stdout",
     "output_type": "stream",
     "text": [
      "100\n",
      "100\n"
     ]
    }
   ],
   "source": [
    "int m = new Integer(100);\n",
    "System.out.println(m);\n",
    "\n",
    "a = m;\n",
    "System.out.println(a.toString());"
   ]
  }
 ],
 "metadata": {
  "kernelspec": {
   "display_name": "Java",
   "language": "java",
   "name": "java"
  },
  "language_info": {
   "codemirror_mode": "java",
   "file_extension": ".jshell",
   "mimetype": "text/x-java-source",
   "name": "Java",
   "pygments_lexer": "java",
   "version": "14.0.2+12-46"
  }
 },
 "nbformat": 4,
 "nbformat_minor": 4
}
