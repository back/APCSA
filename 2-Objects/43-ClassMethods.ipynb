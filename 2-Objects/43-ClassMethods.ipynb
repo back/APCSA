{
 "cells": [
  {
   "cell_type": "markdown",
   "metadata": {},
   "source": [
    "# Class Methods\n",
    "\n",
    "---\n",
    "Accessor & Mutator\n",
    "---"
   ]
  },
  {
   "cell_type": "code",
   "execution_count": 2,
   "metadata": {},
   "outputs": [],
   "source": [
    "public class Point {\n",
    "    private double x;\n",
    "    private double y;\n",
    "    \n",
    "    public double getX() {\n",
    "        return this.x;\n",
    "    }\n",
    "    \n",
    "    public double getY() {\n",
    "        return this.y;\n",
    "    }\n",
    "\n",
    "    public void setX(double x) {\n",
    "        this.x = x;\n",
    "    }\n",
    "    \n",
    "    public void setY(double y) {\n",
    "        this.y = y;\n",
    "    }\n",
    "}"
   ]
  },
  {
   "cell_type": "markdown",
   "metadata": {},
   "source": [
    "---\n",
    "State vs Behavior\n",
    "---\n",
    "- **State**: all accessors\n",
    "- **Behavior**: all mutators\n",
    "\n",
    "---\n",
    "Constructors\n",
    "---"
   ]
  },
  {
   "cell_type": "code",
   "execution_count": 5,
   "metadata": {},
   "outputs": [],
   "source": [
    "public class Point {\n",
    "    \n",
    "    private double x;\n",
    "    private double y;\n",
    "    \n",
    "    public Point(double x, double y) {\n",
    "        this.x = x;\n",
    "        this.y = y;\n",
    "    }\n",
    "\n",
    "    public double getX() {\n",
    "        return this.x;\n",
    "    }\n",
    "    \n",
    "    public double getY() {\n",
    "        return this.y;\n",
    "    }\n",
    "\n",
    "    public void setX(double x) {\n",
    "        this.x = x;\n",
    "    }\n",
    "    \n",
    "    public void setY(double y) {\n",
    "        this.y = y;\n",
    "    }\n",
    "    public double distanceToOrigin(){\n",
    "        double tmp = this.x * this.x + this.y * this.y;\n",
    "        double dis = Math.sqrt(tmp);\n",
    "        return dis; \n",
    "    }\n",
    "\n",
    "    public double distanceToAnotherPoint(Point another) {\n",
    "        double xDiff = this.x - another.getX();\n",
    "        double yDiff = this.y - another.getY();\n",
    "        return Math.sqrt(xDiff*xDiff + yDiff*yDiff);\n",
    "    }\n",
    "    \n",
    "    \n",
    "    public void printMe() {\n",
    "        System.out.println(\"X: \" + this.x + \", Y:\" + this.y);\n",
    "    }\n",
    "}"
   ]
  },
  {
   "cell_type": "code",
   "execution_count": 6,
   "metadata": {},
   "outputs": [
    {
     "name": "stdout",
     "output_type": "stream",
     "text": [
      "18.110770276274835\n"
     ]
    }
   ],
   "source": [
    "Point a = new Point(1, 23);\n",
    "Point b = new Point(3,5);\n",
    "\n",
    "System.out.println( a.distanceToAnotherPoint(b)  );"
   ]
  },
  {
   "cell_type": "markdown",
   "metadata": {},
   "source": [
    "---\n",
    "Overloading\n",
    "---"
   ]
  },
  {
   "cell_type": "code",
   "execution_count": null,
   "metadata": {},
   "outputs": [],
   "source": []
  }
 ],
 "metadata": {
  "kernelspec": {
   "display_name": "Java",
   "language": "java",
   "name": "java"
  },
  "language_info": {
   "codemirror_mode": "java",
   "file_extension": ".jshell",
   "mimetype": "text/x-java-source",
   "name": "Java",
   "pygments_lexer": "java",
   "version": "14.0.2+12-46"
  }
 },
 "nbformat": 4,
 "nbformat_minor": 4
}
