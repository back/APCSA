{
 "cells": [
  {
   "cell_type": "markdown",
   "metadata": {},
   "source": [
    "# Operator Precedence\n",
    "\n",
    "(Barron's Book, 7th Edition, Chapter 1, Page.67)\n",
    "\n",
    "1. !, ++, --\n",
    "2. *, /, %\n",
    "3. +, -\n",
    "4. <, >, <=, >=\n",
    "5. ==, !=\n",
    "6. &&\n",
    "7. ||\n",
    "8. =, +=, -=, *=, /=, %=\n",
    "\n",
    "---\n",
    "Unary operators\n",
    "---\n",
    "* -\n",
    "* ++\n",
    "* --\n",
    "* !\n",
    "\n",
    "---\n",
    "Binary operators\n",
    "---\n",
    "- Most operators are binary operators\n",
    "\n",
    "---\n",
    "Ternary operator\n",
    "---\n",
    "- **? :**"
   ]
  },
  {
   "cell_type": "code",
   "execution_count": null,
   "metadata": {},
   "outputs": [],
   "source": [
    "int x = 185;\n",
    "\n",
    "System.out.print(  x > 100 ? x / 2 : x - 10  )"
   ]
  },
  {
   "cell_type": "markdown",
   "metadata": {},
   "source": [
    "---\n",
    "# In Class Practice\n",
    "#### Functions in Java\n",
    "```Java\n",
    "public boolean calc(int x, double y) {\n",
    "    x += 1;\n",
    "    y /= 3.0;\n",
    "    return x < y;\n",
    "}\n",
    "```\n",
    "- [Coding Bat - Warmup 1](https://codingbat.com/java/Warmup-1)\n",
    "\n",
    "\n",
    "---\n",
    "# Homework\n",
    "- [University of Washington CS](https://practiceit.cs.washington.edu/problem/list)\n",
    " - **Chapter 2**: 1 - 20\n",
    " - [One interesting problem](https://practiceit.cs.washington.edu/problem/view/bjp5/chapter2/s18-timesOperator)\n",
    " \n",
    " \n",
    " Online Interactive Readings\n",
    "\n",
    "Variables\n",
    "\n",
    "https://runestone.academy/runestone/books/published/apcsareview/VariableBasics/declareVars.html\n",
    "\n",
    "Operators\n",
    "\n",
    "https://runestone.academy/runestone/books/published/apcsareview/VariableBasics/operators.html\n",
    "\n",
    "Google search\n",
    "\n",
    "\tWhy computer cannot perfectly store value of 0.1?\n",
    "\n",
    "\n",
    "Self Check (need register/login)\n",
    "\n",
    "https://practiceit.cs.washington.edu/problem/list (BJP5 Chapter 2)\n"
   ]
  },
  {
   "cell_type": "markdown",
   "metadata": {},
   "source": [
    "# Common Errors\n",
    "\n",
    "- forgetting that Java is case sensitive: **myScore** is not the same as **myscore**.\n",
    "- forgetting to specify the type when declaring a variable (using name = value; instead of type name = value;)\n",
    "- using a variable name, but never declaring the variable.\n",
    "- using the wrong name for the variable. For example calling it **studentTotal** when you declare it, but later calling it **total**.\n",
    "- using the wrong type for a variable. Don’t forget that using integer types in calculations will give an integer result. So either cast one integer value to double or use a double variable if you want the fractional part (the part after the decimal point).\n",
    "- using == to compare double values. Remember that double values are often an approximation. You might want to test if the absolute value of the difference between the two values is less than some amount instead.\n",
    "- assuming that some value like 0 will be smaller than other int values. Remember that int values can be negative as well. If you want to set a value to the smallest possible int values use Integer.MIN_VALUE."
   ]
  }
 ],
 "metadata": {
  "kernelspec": {
   "display_name": "Java",
   "language": "java",
   "name": "java"
  },
  "language_info": {
   "codemirror_mode": "java",
   "file_extension": ".jshell",
   "mimetype": "text/x-java-source",
   "name": "Java",
   "pygments_lexer": "java",
   "version": "14.0.2+12-46"
  }
 },
 "nbformat": 4,
 "nbformat_minor": 4
}
