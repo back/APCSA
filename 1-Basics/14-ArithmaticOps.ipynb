{
 "cells": [
  {
   "cell_type": "markdown",
   "metadata": {},
   "source": [
    "# Arithmatic Operators\n",
    "---\n",
    "|Operator|Meaning|Example|\n",
    "|:------:|-------|-------|\n",
    "|+|addition|3 + x|\n",
    "|-|subtraction|p - q|\n",
    "|* |multiplication|6 * i|\n",
    "| / |division|10.5 / 3.7|\n",
    "| % |mod (remainder)|11 % 8 // returns 3|"
   ]
  },
  {
   "cell_type": "code",
   "execution_count": null,
   "metadata": {},
   "outputs": [],
   "source": [
    "System.out.print(2 + 3 * 4 - 6);"
   ]
  },
  {
   "cell_type": "code",
   "execution_count": null,
   "metadata": {},
   "outputs": [],
   "source": [
    "System.out.print(    (18 - 7) * (43 % 10)     );"
   ]
  },
  {
   "cell_type": "code",
   "execution_count": null,
   "metadata": {},
   "outputs": [],
   "source": [
    "System.out.print(2 + 19 % 5 - (11 * (5 / 2)));"
   ]
  },
  {
   "cell_type": "code",
   "execution_count": null,
   "metadata": {},
   "outputs": [],
   "source": [
    "System.out.print(813 % 100 / 3 + 2.4);"
   ]
  },
  {
   "cell_type": "code",
   "execution_count": null,
   "metadata": {},
   "outputs": [],
   "source": [
    "System.out.println( 132 % 11 == 0 );  // looking for factors..."
   ]
  },
  {
   "cell_type": "markdown",
   "metadata": {},
   "source": [
    "---\n",
    "Integer Division\n",
    "---"
   ]
  },
  {
   "cell_type": "code",
   "execution_count": null,
   "metadata": {},
   "outputs": [],
   "source": [
    "System.out.println(  10 / 3  );"
   ]
  },
  {
   "cell_type": "code",
   "execution_count": null,
   "metadata": {},
   "outputs": [],
   "source": [
    "int a = 54, b = 13;\n",
    "\n",
    "System.out.println( (double) a / b );"
   ]
  },
  {
   "cell_type": "code",
   "execution_count": null,
   "metadata": {},
   "outputs": [],
   "source": [
    "System.out.println( 123456789 / 1000000 );\n",
    "System.out.println( 123456789 % 1000000 );"
   ]
  },
  {
   "cell_type": "markdown",
   "metadata": {},
   "source": [
    "---\n",
    "Results Type\n",
    "---\n",
    "- Pure integer calculations always results in integer results\n",
    "- Any decimals involved, the calculations are all in decimals"
   ]
  },
  {
   "cell_type": "code",
   "execution_count": null,
   "metadata": {},
   "outputs": [],
   "source": [
    "System.out.println( 10 + 5 / 3   - 7 * 2);\n",
    "System.out.println( 10 + 5 / 3.0 - 7 * 2);"
   ]
  },
  {
   "cell_type": "markdown",
   "metadata": {},
   "source": [
    "# In Class Practice\n",
    "\n",
    "- [Expressions and Assignments](https://csawesome.runestone.academy/runestone/books/published/csawesome/Unit1-Getting-Started/topic-1-4-assignment.html)\n",
    "\n",
    "# Homework\n",
    "\n",
    "- [Expression 1](https://practiceit.cs.washington.edu/problem/view/bjp5/chapter2/s3-expressions1)\n",
    "- [Expression 2](https://practiceit.cs.washington.edu/problem/view/bjp5/chapter2/s4-expressions2)\n",
    "- [Expression 3](https://practiceit.cs.washington.edu/problem/view/bjp5/chapter2/s5-expressions3)\n",
    " - There is one question here with String operation, please skip it for now."
   ]
  }
 ],
 "metadata": {
  "kernelspec": {
   "display_name": "Java",
   "language": "java",
   "name": "java"
  },
  "language_info": {
   "codemirror_mode": "java",
   "file_extension": ".jshell",
   "mimetype": "text/x-java-source",
   "name": "Java",
   "pygments_lexer": "java",
   "version": "14.0.2+12-46"
  }
 },
 "nbformat": 4,
 "nbformat_minor": 4
}
