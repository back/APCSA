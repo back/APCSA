{
 "cells": [
  {
   "cell_type": "markdown",
   "metadata": {},
   "source": [
    "# Section Review - Coding Skills with Loop\n",
    "\n",
    "---\n",
    "More review resources\n",
    "---\n",
    "http://www.beginwithjava.com/java/loops/questions.html\n",
    "\n",
    "---\n",
    "Summary for arithmatic progress\n",
    "---"
   ]
  },
  {
   "cell_type": "code",
   "execution_count": null,
   "metadata": {},
   "outputs": [],
   "source": [
    "int sum = 0;\n",
    "\n",
    "for(int i = 1; i <= 100000; i++) sum += i;\n",
    "\n",
    "System.out.println(sum);"
   ]
  },
  {
   "cell_type": "markdown",
   "metadata": {},
   "source": [
    "---\n",
    "Search for Prime numbers\n",
    "---"
   ]
  },
  {
   "cell_type": "code",
   "execution_count": null,
   "metadata": {},
   "outputs": [],
   "source": [
    "int number = 91;\n",
    "\n",
    "boolean foundFactor = false;\n",
    "for(int factor=2; factor<number; factor++) {\n",
    "    if( number % factor == 0 ) {\n",
    "        foundFactor = true;\n",
    "        break;\n",
    "    }\n",
    "}\n",
    "\n",
    "System.out.println(foundFactor);"
   ]
  },
  {
   "cell_type": "code",
   "execution_count": null,
   "metadata": {},
   "outputs": [],
   "source": [
    "System.out.print(2);\n",
    "\n",
    "for(int i = 3; i < 2000; i += 2) {\n",
    "    boolean foundFactor = false;\n",
    "    for(int f = 3; f < i; f++) {\n",
    "        if (i % f == 0) {\n",
    "            foundFactor = true;\n",
    "            break;\n",
    "        }\n",
    "    }\n",
    "    if (!foundFactor) {\n",
    "        System.out.print(\", \" + i);\n",
    "    }\n",
    "}"
   ]
  },
  {
   "cell_type": "markdown",
   "metadata": {},
   "source": [
    "---\n",
    "Game of Counting (Skip 7)\n",
    "---"
   ]
  },
  {
   "cell_type": "code",
   "execution_count": null,
   "metadata": {},
   "outputs": [],
   "source": [
    "for(int i = 1; i <= 100; i++) {\n",
    "    if (i % 7 == 0 || i % 10 == 7 || i / 10 == 7) {\n",
    "        System.out.println(\"Pass!\");\n",
    "    } else {\n",
    "        System.out.print(i + \",\");\n",
    "    }\n",
    "}"
   ]
  },
  {
   "cell_type": "markdown",
   "metadata": {},
   "source": [
    "---\n",
    "Game of Guessing\n",
    "---"
   ]
  },
  {
   "cell_type": "code",
   "execution_count": null,
   "metadata": {},
   "outputs": [],
   "source": [
    "Scanner sc = new Scanner(System.in);\n",
    "int secret = (int) (Math.random()*100);\n",
    "\n",
    "\n",
    "while(true) {\n",
    "    int i = sc.nextInt();\n",
    "    if (i == secret) {\n",
    "        System.out.println(\"Congratulations! You got it!\");\n",
    "        break;\n",
    "    }\n",
    "    if (i > secret)\n",
    "        System.out.println(\"Oops... your number is too big.\");\n",
    "    else\n",
    "        System.out.println(\"Hmm... your number is too small.\");\n",
    "}"
   ]
  }
 ],
 "metadata": {
  "kernelspec": {
   "display_name": "Java",
   "language": "java",
   "name": "java"
  },
  "language_info": {
   "codemirror_mode": "java",
   "file_extension": ".jshell",
   "mimetype": "text/x-java-source",
   "name": "Java",
   "pygments_lexer": "java",
   "version": "14.0.2+12-46"
  }
 },
 "nbformat": 4,
 "nbformat_minor": 4
}
