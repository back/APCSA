{
 "cells": [
  {
   "cell_type": "markdown",
   "metadata": {},
   "source": [
    "# Primitive Types\n",
    "---\n",
    "Integer\n",
    "---"
   ]
  },
  {
   "cell_type": "code",
   "execution_count": null,
   "metadata": {},
   "outputs": [],
   "source": [
    "int i;\n",
    "i = 10;\n",
    "\n",
    "System.out.println(i);"
   ]
  },
  {
   "cell_type": "markdown",
   "metadata": {},
   "source": [
    "---\n",
    "Double (decimal, fractions)\n",
    "---"
   ]
  },
  {
   "cell_type": "code",
   "execution_count": null,
   "metadata": {},
   "outputs": [],
   "source": [
    "double d;\n",
    "d = 3.1416;\n",
    "\n",
    "System.out.println(d);"
   ]
  },
  {
   "cell_type": "markdown",
   "metadata": {},
   "source": [
    "---\n",
    "Boolean\n",
    "---\n",
    "It's named after [George Boole](https://en.wikipedia.org/wiki/George_Boole)."
   ]
  },
  {
   "cell_type": "code",
   "execution_count": null,
   "metadata": {},
   "outputs": [],
   "source": [
    "boolean b;\n",
    "b = true;\n",
    "\n",
    "System.out.println(b);"
   ]
  },
  {
   "cell_type": "markdown",
   "metadata": {},
   "source": [
    "---\n",
    "Declaration and Initialization\n",
    "---"
   ]
  },
  {
   "cell_type": "code",
   "execution_count": null,
   "metadata": {},
   "outputs": [],
   "source": [
    "int i = 7 + 3;\n",
    "double d = 9.5;\n",
    "boolean m = false;\n",
    "\n",
    "int a = 3, b = 4, c = 5;\n",
    "double x = 0.7, y = 0.8, z = 0.9;\n",
    "\n",
    "System.out.println(i);\n",
    "System.out.println(d);\n",
    "System.out.println(m);\n",
    "System.out.println(a);\n",
    "System.out.println(b);\n",
    "System.out.println(c);\n",
    "System.out.println(x);\n",
    "System.out.println(y);\n",
    "System.out.println(z);"
   ]
  },
  {
   "cell_type": "markdown",
   "metadata": {},
   "source": [
    "---\n",
    "Type Cast\n",
    "---"
   ]
  },
  {
   "cell_type": "code",
   "execution_count": null,
   "metadata": {},
   "outputs": [],
   "source": [
    "int m = (int) 12.9935;\n",
    "\n",
    "System.out.println(m);"
   ]
  },
  {
   "cell_type": "code",
   "execution_count": null,
   "metadata": {},
   "outputs": [],
   "source": [
    "double n = (double) 24;\n",
    "\n",
    "System.out.println(n);"
   ]
  }
 ],
 "metadata": {
  "kernelspec": {
   "display_name": "Java",
   "language": "java",
   "name": "java"
  },
  "language_info": {
   "codemirror_mode": "java",
   "file_extension": ".jshell",
   "mimetype": "text/x-java-source",
   "name": "Java",
   "pygments_lexer": "java",
   "version": "14.0.2+12-46"
  }
 },
 "nbformat": 4,
 "nbformat_minor": 4
}
