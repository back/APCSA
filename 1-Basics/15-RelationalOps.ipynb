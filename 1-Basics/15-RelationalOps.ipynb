{
 "cells": [
  {
   "cell_type": "markdown",
   "metadata": {},
   "source": [
    "# Relational Operators\n",
    "\n",
    "|Operator|Meaning|Example|Notes|\n",
    "|:------:|-------|-------|-----|\n",
    "| == |equal to                |x == 100     |can do any values|\n",
    "| != |not equal to            |age != 21    |can do any values|\n",
    "| >  |greater than            |height > 5.0 |compares numbers only|\n",
    "| <  |less than               |height < 7.5 |compares numbers only|\n",
    "| >= |greater than or equal to|weight >= 100|compares numbers only|\n",
    "| <= |less than or equal to   |weight <= 100|compares numbers only|\n",
    "\n",
    "- These operators will **always** produce **boolean** results (either **true**, or **false**)"
   ]
  },
  {
   "cell_type": "code",
   "execution_count": 2,
   "metadata": {},
   "outputs": [
    {
     "name": "stdout",
     "output_type": "stream",
     "text": [
      "false"
     ]
    }
   ],
   "source": [
    "boolean b = (100 / 3 - 37) > 80;\n",
    "\n",
    "System.out.print(b);"
   ]
  },
  {
   "cell_type": "markdown",
   "metadata": {},
   "source": [
    "---\n",
    "# It's risky to compare Decimal Numbers"
   ]
  },
  {
   "cell_type": "code",
   "execution_count": 7,
   "metadata": {},
   "outputs": [
    {
     "name": "stdout",
     "output_type": "stream",
     "text": [
      "true\n",
      "false\n"
     ]
    }
   ],
   "source": [
    "System.out.println( 7 - 6  ==  1 );\n",
    "\n",
    "System.out.println( 0.7 - 0.6 == 0.1 );  // In Binary system, 0.1 is an infinite looping fraction. "
   ]
  }
 ],
 "metadata": {
  "kernelspec": {
   "display_name": "Java",
   "language": "java",
   "name": "java"
  },
  "language_info": {
   "codemirror_mode": "java",
   "file_extension": ".jshell",
   "mimetype": "text/x-java-source",
   "name": "Java",
   "pygments_lexer": "java",
   "version": "14.0.2+12-46"
  }
 },
 "nbformat": 4,
 "nbformat_minor": 4
}
