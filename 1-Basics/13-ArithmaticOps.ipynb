{
 "cells": [
  {
   "cell_type": "markdown",
   "metadata": {},
   "source": [
    "# Arithmatic Operators\n",
    "---\n",
    "|Operator|Meaning|Example|\n",
    "|:------:|-------|-------|\n",
    "|+|addition|3 + x|\n",
    "|-|subtraction|p - q|\n",
    "|* |multiplication|6 * i|\n",
    "| / |division|10.5 / 3.7|\n",
    "| % |mod (remainder)|11 % 8 // returns 3|"
   ]
  },
  {
   "cell_type": "code",
   "execution_count": 26,
   "metadata": {},
   "outputs": [
    {
     "name": "stdout",
     "output_type": "stream",
     "text": [
      "8"
     ]
    }
   ],
   "source": [
    "System.out.print(2 + 3 * 4 - 6);"
   ]
  },
  {
   "cell_type": "code",
   "execution_count": 27,
   "metadata": {},
   "outputs": [
    {
     "name": "stdout",
     "output_type": "stream",
     "text": [
      "33"
     ]
    }
   ],
   "source": [
    "System.out.print((18 - 7) * (43 % 10));"
   ]
  },
  {
   "cell_type": "code",
   "execution_count": 28,
   "metadata": {},
   "outputs": [
    {
     "name": "stdout",
     "output_type": "stream",
     "text": [
      "-16"
     ]
    }
   ],
   "source": [
    "System.out.print(2 + 19 % 5 - (11 * (5 / 2)));"
   ]
  },
  {
   "cell_type": "code",
   "execution_count": 29,
   "metadata": {},
   "outputs": [
    {
     "name": "stdout",
     "output_type": "stream",
     "text": [
      "6.4"
     ]
    }
   ],
   "source": [
    "System.out.print(813 % 100 / 3 + 2.4);"
   ]
  },
  {
   "cell_type": "code",
   "execution_count": 2,
   "metadata": {},
   "outputs": [
    {
     "name": "stdout",
     "output_type": "stream",
     "text": [
      "true\n"
     ]
    }
   ],
   "source": [
    "System.out.println( 132 % 11 == 0 );  // looking for factors..."
   ]
  },
  {
   "cell_type": "markdown",
   "metadata": {},
   "source": [
    "---\n",
    "Integer Division\n",
    "---"
   ]
  },
  {
   "cell_type": "code",
   "execution_count": 34,
   "metadata": {},
   "outputs": [
    {
     "name": "stdout",
     "output_type": "stream",
     "text": [
      "2.5\n",
      "123456\n",
      "789\n"
     ]
    }
   ],
   "source": [
    "System.out.println( 10 / (double)4 );\n",
    "System.out.println( 123456789 / 1000 );\n",
    "System.out.println( 123456789 % 1000 );"
   ]
  },
  {
   "cell_type": "markdown",
   "metadata": {},
   "source": [
    "---\n",
    "Results Type\n",
    "---\n",
    "- Pure integer calculations always results in integer results\n",
    "- Any decimals involved, the calculations are all in decimals"
   ]
  },
  {
   "cell_type": "code",
   "execution_count": 35,
   "metadata": {},
   "outputs": [
    {
     "name": "stdout",
     "output_type": "stream",
     "text": [
      "-3\n",
      "-2.333333333333334\n"
     ]
    }
   ],
   "source": [
    "System.out.println( 10 + 5 / 3   - 7 * 2);\n",
    "System.out.println( 10 + 5 / 3.0 - 7 * 2);"
   ]
  }
 ],
 "metadata": {
  "kernelspec": {
   "display_name": "Java",
   "language": "java",
   "name": "java"
  },
  "language_info": {
   "codemirror_mode": "java",
   "file_extension": ".jshell",
   "mimetype": "text/x-java-source",
   "name": "Java",
   "pygments_lexer": "java",
   "version": "14.0.2+12-46"
  }
 },
 "nbformat": 4,
 "nbformat_minor": 4
}
