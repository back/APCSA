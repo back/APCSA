{
 "cells": [
  {
   "cell_type": "markdown",
   "metadata": {},
   "source": [
    "# String Literals\n",
    "---\n",
    "Java uses double quote **\"...\"** to mark a string literal."
   ]
  },
  {
   "cell_type": "code",
   "execution_count": 5,
   "metadata": {},
   "outputs": [
    {
     "name": "stdout",
     "output_type": "stream",
     "text": [
      "Hello, world!\n"
     ]
    }
   ],
   "source": [
    "System.out.println(\"Hello, world!\");"
   ]
  },
  {
   "cell_type": "markdown",
   "metadata": {},
   "source": [
    "---\n",
    "String Concatenation\n",
    "---\n",
    "- Java allows a special **join** operation on strings by simply using **\"+\"** operator.\n",
    " - The only operator support String type is **+**"
   ]
  },
  {
   "cell_type": "code",
   "execution_count": 9,
   "metadata": {},
   "outputs": [
    {
     "name": "stdout",
     "output_type": "stream",
     "text": [
      "3Hi, you got a final score of : 99\n"
     ]
    }
   ],
   "source": [
    "System.out.println(1 + 2 + \"Hi, you got a final score of : \" + 9 + 9);"
   ]
  },
  {
   "cell_type": "code",
   "execution_count": 10,
   "metadata": {},
   "outputs": [
    {
     "name": "stdout",
     "output_type": "stream",
     "text": [
      "The number of students in our school is 1000."
     ]
    }
   ],
   "source": [
    "System.out.print(\"The number of students in our school is \" + 1000 + \".\");"
   ]
  },
  {
   "cell_type": "code",
   "execution_count": 11,
   "metadata": {},
   "outputs": [
    {
     "name": "stdout",
     "output_type": "stream",
     "text": [
      "\"\n"
     ]
    }
   ],
   "source": [
    "System.out.println(\"\\\"\");"
   ]
  },
  {
   "cell_type": "markdown",
   "metadata": {},
   "source": [
    "---\n",
    "### How to print out the \"double quote\" itself?\n",
    "For example, how do we print the following sentense:\n",
    "- General said, \"Let's take the enemy from behind.\""
   ]
  },
  {
   "cell_type": "code",
   "execution_count": 12,
   "metadata": {},
   "outputs": [
    {
     "name": "stdout",
     "output_type": "stream",
     "text": [
      "General said, \"Let's take the enemy from behind.\""
     ]
    }
   ],
   "source": [
    "System.out.print(\"General said, \\\"Let's take the enemy from behind.\\\"\");"
   ]
  },
  {
   "cell_type": "markdown",
   "metadata": {},
   "source": [
    "---\n",
    "Then, how do we print the escape character?\n",
    "- In Java, we need a \\ to escape the double quote."
   ]
  },
  {
   "cell_type": "code",
   "execution_count": 13,
   "metadata": {},
   "outputs": [
    {
     "name": "stdout",
     "output_type": "stream",
     "text": [
      "In Java, we need a \\ to escape the double quote."
     ]
    }
   ],
   "source": [
    "System.out.print(\"In Java, we need a \\\\ to escape the double quote.\");"
   ]
  },
  {
   "cell_type": "markdown",
   "metadata": {},
   "source": [
    "---\n",
    "How about a bit of more tricky?\n",
    "- In Java, we write \\\\\\\\ to output a single \\ in string literals."
   ]
  },
  {
   "cell_type": "code",
   "execution_count": 14,
   "metadata": {},
   "outputs": [
    {
     "name": "stdout",
     "output_type": "stream",
     "text": [
      "In Java, we write \\\\ to output a single \\ in string literals"
     ]
    }
   ],
   "source": [
    "System.out.print(\"In Java, we write \\\\\\\\ to output a single \\\\ in string literals\");"
   ]
  },
  {
   "cell_type": "markdown",
   "metadata": {},
   "source": [
    "---\n",
    "### Is there any other special escaped characters?\n",
    "- \\\\n\n",
    "- \\\\t\n",
    "- \\\\u\n",
    "\n",
    "[A fun picture here for the **ship**!](https://www.shiplilly.com/blog/blue-marlin-ship-ships-shipping-ships/)"
   ]
  },
  {
   "cell_type": "code",
   "execution_count": 15,
   "metadata": {},
   "outputs": [
    {
     "name": "stdout",
     "output_type": "stream",
     "text": [
      "A ship-shipping ship\n",
      "ships\n",
      "\tshipping-ships."
     ]
    }
   ],
   "source": [
    "System.out.print(\"A ship-shipping ship\\nships\\n\\tshipping-ships.\")"
   ]
  },
  {
   "cell_type": "code",
   "execution_count": 22,
   "metadata": {},
   "outputs": [
    {
     "name": "stdout",
     "output_type": "stream",
     "text": [
      "A sentence with new line.A sentence with new line.\n",
      "1\n",
      "2\n",
      "34\n",
      "5\n",
      "\n",
      "78"
     ]
    }
   ],
   "source": [
    "System.out.print(\"A sentence with new line.\");\n",
    "System.out.println(\"A sentence with new line.\");\n",
    "\n",
    "System.out.println(1);\n",
    "System.out.println(2);\n",
    "System.out.print(3);\n",
    "System.out.print(4 + \"\\n\");\n",
    "System.out.println(5 + \"\\n\");\n",
    "System.out.print(7);\n",
    "System.out.print(8);"
   ]
  },
  {
   "cell_type": "markdown",
   "metadata": {},
   "source": [
    "---\n",
    "### Non-ASCII characters examples\n",
    "- [Unicode Standard](https://home.unicode.org/)\n",
    "- [List of Unicode Characters](https://en.wikipedia.org/wiki/List_of_Unicode_characters)"
   ]
  },
  {
   "cell_type": "code",
   "execution_count": 23,
   "metadata": {},
   "outputs": [
    {
     "name": "stdout",
     "output_type": "stream",
     "text": [
      "ȧ   ♠ ♥ ♣ ♦"
     ]
    }
   ],
   "source": [
    "System.out.print(\"\\u0227   \\u2660 \\u2665 \\u2663 \\u2666\");"
   ]
  },
  {
   "cell_type": "markdown",
   "metadata": {},
   "source": [
    "---\n",
    "### Some online practice\n",
    "[CodingBat String-1](https://codingbat.com/java/String-1)\n",
    "\n",
    "\n",
    "### Homework\n",
    "\n",
    "Casting\n",
    "https://runestone.academy/runestone/books/published/apcsareview/VariableBasics/casting.html\n",
    "\n",
    "String\n",
    "https://runestone.academy/runestone/books/published/apcsareview/Strings/sMethods.html\n",
    "\n",
    "Practice-It!\n",
    "https://practiceit.cs.washington.edu/problem/list (need register to use)\n",
    "\t2.1   --- 2.20\n",
    "\n",
    "Post Chapter all questions\n"
   ]
  }
 ],
 "metadata": {
  "kernelspec": {
   "display_name": "Java",
   "language": "java",
   "name": "java"
  },
  "language_info": {
   "codemirror_mode": "java",
   "file_extension": ".jshell",
   "mimetype": "text/x-java-source",
   "name": "Java",
   "pygments_lexer": "java",
   "version": "14.0.2+12-46"
  }
 },
 "nbformat": 4,
 "nbformat_minor": 4
}
