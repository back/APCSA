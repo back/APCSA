{
 "cells": [
  {
   "cell_type": "markdown",
   "metadata": {},
   "source": [
    "# String Literals\n",
    "---\n",
    "Java uses double quote **\"...\"** to mark a string literal."
   ]
  },
  {
   "cell_type": "code",
   "execution_count": 17,
   "metadata": {},
   "outputs": [
    {
     "name": "stdout",
     "output_type": "stream",
     "text": [
      "Hello, world!"
     ]
    }
   ],
   "source": [
    "System.out.print(\"Hello, world!\");"
   ]
  },
  {
   "cell_type": "markdown",
   "metadata": {},
   "source": [
    "---\n",
    "How to print out the \"double quote\" itself?\n",
    "---\n",
    "For example, how do we print the following sentense:\n",
    "- General said, \"Let's take the enemy from behind.\""
   ]
  },
  {
   "cell_type": "code",
   "execution_count": 19,
   "metadata": {},
   "outputs": [
    {
     "name": "stdout",
     "output_type": "stream",
     "text": [
      "General said, \"Let's take the enemy from behind.\""
     ]
    }
   ],
   "source": [
    "System.out.print(\"General said, \\\"Let's take the enemy from behind.\\\"\");"
   ]
  },
  {
   "cell_type": "markdown",
   "metadata": {},
   "source": [
    "---\n",
    "Then, how do we print the escape character?\n",
    "- In Java, we need a \\ to escape the double quote."
   ]
  },
  {
   "cell_type": "code",
   "execution_count": 20,
   "metadata": {},
   "outputs": [
    {
     "name": "stdout",
     "output_type": "stream",
     "text": [
      "In Java, we need a \\ to escape the double quote."
     ]
    }
   ],
   "source": [
    "System.out.print(\"In Java, we need a \\\\ to escape the double quote.\");"
   ]
  },
  {
   "cell_type": "markdown",
   "metadata": {},
   "source": [
    "---\n",
    "How about a bit of more tricky?\n",
    "- In Java, we write \\\\\\\\ to output a single \\ in string literals."
   ]
  },
  {
   "cell_type": "code",
   "execution_count": 21,
   "metadata": {},
   "outputs": [
    {
     "name": "stdout",
     "output_type": "stream",
     "text": [
      "In Java, we write \\\\ to output a single \\ in string literals"
     ]
    }
   ],
   "source": [
    "System.out.print(\"In Java, we write \\\\\\\\ to output a single \\\\ in string literals\");"
   ]
  },
  {
   "cell_type": "markdown",
   "metadata": {},
   "source": [
    "---\n",
    "Is there any other special escaped characters?\n",
    "---\n",
    "- \\\\n\n",
    "- \\\\t\n",
    "- \\\\u\n",
    "\n",
    "[A fun picture here for the **ship**!](\n",
    "https://intrepid-guewuklbkgvxhkhdo.stackpathdns.com/wp-content/uploads/2016/03/9-english-brain-teasers-with-answers.jpg)"
   ]
  },
  {
   "cell_type": "code",
   "execution_count": 24,
   "metadata": {},
   "outputs": [
    {
     "name": "stdout",
     "output_type": "stream",
     "text": [
      "A ship-shipping ship\n",
      "ships\n",
      "\tshipping-ships."
     ]
    }
   ],
   "source": [
    "System.out.print(\"A ship-shipping ship\\nships\\n\\tshipping-ships.\")"
   ]
  },
  {
   "cell_type": "code",
   "execution_count": null,
   "metadata": {},
   "outputs": [],
   "source": [
    "System.out.print(\"A sentence with new line.\\n\");\n",
    "System.out.println(\"A sentence with new line.\");"
   ]
  },
  {
   "cell_type": "code",
   "execution_count": 25,
   "metadata": {},
   "outputs": [
    {
     "name": "stdout",
     "output_type": "stream",
     "text": [
      "♠ ♥ ♣ ♦"
     ]
    }
   ],
   "source": [
    "System.out.print(\"\\u2660 \\u2665 \\u2663 \\u2666\");"
   ]
  },
  {
   "cell_type": "markdown",
   "metadata": {},
   "source": [
    "---\n",
    "String Concatenation\n",
    "---\n",
    "Java allows a special **join** operation on strings by simply using **\"+\"** operator."
   ]
  },
  {
   "cell_type": "code",
   "execution_count": 27,
   "metadata": {},
   "outputs": [
    {
     "name": "stdout",
     "output_type": "stream",
     "text": [
      "The number of students in our school is 1000."
     ]
    }
   ],
   "source": [
    "System.out.print(\"The number of students in our school is \" + 1000 + \".\");"
   ]
  }
 ],
 "metadata": {
  "kernelspec": {
   "display_name": "Java",
   "language": "java",
   "name": "java"
  },
  "language_info": {
   "codemirror_mode": "java",
   "file_extension": ".jshell",
   "mimetype": "text/x-java-source",
   "name": "Java",
   "pygments_lexer": "java",
   "version": "14.0.2+12-46"
  }
 },
 "nbformat": 4,
 "nbformat_minor": 4
}
