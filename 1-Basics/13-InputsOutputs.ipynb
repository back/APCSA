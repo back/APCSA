{
 "cells": [
  {
   "cell_type": "markdown",
   "metadata": {},
   "source": [
    "# Input\n",
    "---\n",
    "- User input is not tested in AP CS A exam\n",
    "- However, a pseudo code may be provided for questions\n",
    "\n",
    "```Java\n",
    "double x = IO.readDouble(); // read user input\n",
    "System.out.print(100.0/x);  // any risks here?\n",
    "```\n",
    "For our study, you may still need to learn a way to read inputs."
   ]
  },
  {
   "cell_type": "code",
   "execution_count": null,
   "metadata": {},
   "outputs": [],
   "source": [
    "Scanner sc = new Scanner(System.in);\n",
    "System.out.println(sc.nextInt());\n",
    "System.out.println(sc.nextInt());\n",
    "System.out.println(sc.nextInt());"
   ]
  },
  {
   "cell_type": "markdown",
   "metadata": {},
   "source": [
    "# Output\n",
    "---\n",
    "- Only 2 functions will be tested:\n",
    " - System.out.print()\n",
    " - System.out.println()"
   ]
  },
  {
   "cell_type": "code",
   "execution_count": null,
   "metadata": {},
   "outputs": [],
   "source": [
    "System.out.print(1);\n",
    "System.out.print(2);\n",
    "System.out.print(3);\n",
    "System.out.print(4);\n",
    "System.out.print(5);"
   ]
  },
  {
   "cell_type": "code",
   "execution_count": null,
   "metadata": {},
   "outputs": [],
   "source": [
    "System.out.println(1);\n",
    "System.out.print(2);\n",
    "System.out.println(3);\n",
    "System.out.print(4);\n",
    "System.out.println(5);"
   ]
  }
 ],
 "metadata": {
  "kernelspec": {
   "display_name": "Java",
   "language": "java",
   "name": "java"
  },
  "language_info": {
   "codemirror_mode": "java",
   "file_extension": ".jshell",
   "mimetype": "text/x-java-source",
   "name": "Java",
   "pygments_lexer": "java",
   "version": "14.0.2+12-46"
  }
 },
 "nbformat": 4,
 "nbformat_minor": 4
}
