{
 "cells": [
  {
   "cell_type": "markdown",
   "metadata": {},
   "source": [
    "# While Loop\n",
    "---\n",
    "\n",
    "```Java\n",
    "while () {}\n",
    "```\n",
    "\n",
    "\n",
    "An Infinite loop (do NOT run this!)\n",
    "---\n",
    "```Java\n",
    "while(true) {\n",
    "    System.out.println(\"Hello, world!\");\n",
    "}\n",
    "```\n",
    "---\n",
    "A finite loop\n",
    "---"
   ]
  },
  {
   "cell_type": "code",
   "execution_count": 5,
   "metadata": {},
   "outputs": [
    {
     "name": "stdout",
     "output_type": "stream",
     "text": [
      "0\n",
      "1\n",
      "2\n",
      "3\n",
      "4\n",
      "5\n"
     ]
    }
   ],
   "source": [
    "System.out.println(0);\n",
    "System.out.println(1);\n",
    "System.out.println(2);\n",
    "System.out.println(3);\n",
    "System.out.println(4);\n",
    "System.out.println(5);"
   ]
  },
  {
   "cell_type": "code",
   "execution_count": 18,
   "metadata": {},
   "outputs": [
    {
     "name": "stdout",
     "output_type": "stream",
     "text": [
      "Number i is: 10\n",
      "Number i is: 9\n",
      "Number i is: 8\n",
      "Number i is: 7\n",
      "Number i is: 6\n",
      "Number i is: 5\n",
      "Number i is: 4\n",
      "Number i is: 3\n",
      "Number i is: 2\n",
      "Number i is: 1\n",
      "After loop, i is: 0\n"
     ]
    }
   ],
   "source": [
    "int i = 10;   // loop control variable\n",
    "\n",
    "while (i > 0) {\n",
    "    System.out.println(\"Number i is: \" + i);\n",
    "    \n",
    "    i--;\n",
    "}\n",
    "\n",
    "System.out.println(\"After loop, i is: \" + i);"
   ]
  },
  {
   "cell_type": "markdown",
   "metadata": {},
   "source": [
    "Another form of while loop\n",
    "---\n",
    "```Java\n",
    "while () {}\n",
    "\n",
    "do {} while ();\n",
    "```"
   ]
  },
  {
   "cell_type": "code",
   "execution_count": 13,
   "metadata": {},
   "outputs": [
    {
     "name": "stdout",
     "output_type": "stream",
     "text": [
      "Number i is: 10000\n",
      "After loop, i is: 10001\n"
     ]
    }
   ],
   "source": [
    "int i = 10000;\n",
    "\n",
    "do {\n",
    "    System.out.println(\"Number i is: \" + i);\n",
    "    i++;\n",
    "} while (i < 10);\n",
    "\n",
    "System.out.println(\"After loop, i is: \" + i);"
   ]
  },
  {
   "cell_type": "markdown",
   "metadata": {},
   "source": [
    "![](https://www.cs.uic.edu/~jbell/CourseNotes/C_Programming/Whiles.jpg)\n",
    "\n",
    "---\n",
    "Keywords: break\n",
    "---"
   ]
  },
  {
   "cell_type": "code",
   "execution_count": 14,
   "metadata": {},
   "outputs": [
    {
     "name": "stdout",
     "output_type": "stream",
     "text": [
      "Hello, world!\n"
     ]
    }
   ],
   "source": [
    "while(true) {\n",
    "    System.out.println(\"Hello, world!\");\n",
    "    break;\n",
    "}"
   ]
  },
  {
   "cell_type": "code",
   "execution_count": 15,
   "metadata": {},
   "outputs": [
    {
     "name": "stdout",
     "output_type": "stream",
     "text": [
      "Hello, world!\n",
      "Hello, world!\n",
      "Hello, world!\n",
      "Hello, world!\n",
      "Hello, world!\n",
      "Hello, world!\n"
     ]
    }
   ],
   "source": [
    "int i = 0;\n",
    "\n",
    "while(true) {\n",
    "    System.out.println(\"Hello, world!\");\n",
    "    i++;\n",
    "    if ( i > 5 ) break;\n",
    "}"
   ]
  },
  {
   "cell_type": "markdown",
   "metadata": {},
   "source": [
    "---\n",
    "Keywords: continue\n",
    "---"
   ]
  },
  {
   "cell_type": "code",
   "execution_count": 17,
   "metadata": {},
   "outputs": [
    {
     "name": "stdout",
     "output_type": "stream",
     "text": [
      "Number i is: 1\n",
      "Number i is: 3\n",
      "Number i is: 5\n",
      "Number i is: 7\n",
      "Number i is: 9\n"
     ]
    }
   ],
   "source": [
    "int i = 0;\n",
    "\n",
    "while (i < 10) {\n",
    "    i++;\n",
    "    if (i % 2 == 0) continue;                   // like: skip...\n",
    "    System.out.println(\"Number i is: \" + i);\n",
    "}"
   ]
  },
  {
   "cell_type": "markdown",
   "metadata": {},
   "source": [
    "---\n",
    "Homework\n",
    "---\n",
    "https://www.khanacademy.org/computing/computer-programming/programming/looping/e/review-loops"
   ]
  }
 ],
 "metadata": {
  "kernelspec": {
   "display_name": "Java",
   "language": "java",
   "name": "java"
  },
  "language_info": {
   "codemirror_mode": "java",
   "file_extension": ".jshell",
   "mimetype": "text/x-java-source",
   "name": "Java",
   "pygments_lexer": "java",
   "version": "14.0.2+12-46"
  }
 },
 "nbformat": 4,
 "nbformat_minor": 4
}
