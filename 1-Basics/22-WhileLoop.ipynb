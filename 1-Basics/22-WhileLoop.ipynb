{
 "cells": [
  {
   "cell_type": "markdown",
   "metadata": {},
   "source": [
    "# While Loop\n",
    "---\n",
    "\n",
    "```Java\n",
    "while () {}\n",
    "```\n",
    "\n",
    "\n",
    "An Infinite loop (do NOT run this!)\n",
    "---\n",
    "```Java\n",
    "while(true) {\n",
    "    System.out.println(\"Hello, world!\");\n",
    "}\n",
    "```\n",
    "---\n",
    "A finite loop\n",
    "---"
   ]
  },
  {
   "cell_type": "code",
   "execution_count": 3,
   "metadata": {},
   "outputs": [
    {
     "name": "stdout",
     "output_type": "stream",
     "text": [
      "0\n",
      "1\n",
      "2\n",
      "3\n",
      "4\n",
      "5\n"
     ]
    }
   ],
   "source": [
    "System.out.println(0);\n",
    "System.out.println(1);\n",
    "System.out.println(2);\n",
    "System.out.println(3);\n",
    "System.out.println(4);\n",
    "System.out.println(5);"
   ]
  },
  {
   "cell_type": "code",
   "execution_count": 12,
   "metadata": {},
   "outputs": [
    {
     "name": "stdout",
     "output_type": "stream",
     "text": [
      "100\n",
      "50\n",
      "25\n",
      "26\n",
      "13\n",
      "14\n",
      "7\n",
      "8\n",
      "After loop, i is: 4\n"
     ]
    }
   ],
   "source": [
    "int i = 100;   // loop control variable\n",
    "\n",
    "while ( i > 5  ) {\n",
    "    \n",
    "    System.out.println(i);\n",
    "    \n",
    "    if (i % 2 == 0){\n",
    "        i = i / 2;\n",
    "    } else {\n",
    "        i++;\n",
    "    }\n",
    "}\n",
    "\n",
    "System.out.println(\"After loop, i is: \" + i);"
   ]
  },
  {
   "cell_type": "markdown",
   "metadata": {},
   "source": [
    "Another form of while loop\n",
    "---\n",
    "```Java\n",
    "while () {}\n",
    "\n",
    "do {} while ();\n",
    "```"
   ]
  },
  {
   "cell_type": "code",
   "execution_count": 14,
   "metadata": {},
   "outputs": [
    {
     "name": "stdout",
     "output_type": "stream",
     "text": [
      "Number i is: 10000\n",
      "After loop, i is: 10001\n"
     ]
    }
   ],
   "source": [
    "int i = 10000;\n",
    "\n",
    "do {\n",
    "    System.out.println(\"Number i is: \" + i);\n",
    "    i++;\n",
    "} while (i < 10);\n",
    "\n",
    "System.out.println(\"After loop, i is: \" + i);"
   ]
  },
  {
   "cell_type": "markdown",
   "metadata": {},
   "source": [
    "<img src=\"https://www.cs.uic.edu/~jbell/CourseNotes/C_Programming/Whiles.jpg\" width=\"600\"/>\n",
    "\n",
    "---\n",
    "Keyword: break\n",
    "---"
   ]
  },
  {
   "cell_type": "code",
   "execution_count": 15,
   "metadata": {},
   "outputs": [
    {
     "name": "stdout",
     "output_type": "stream",
     "text": [
      "Hello, world!\n",
      "Loop finished.\n"
     ]
    }
   ],
   "source": [
    "while(true) {\n",
    "    System.out.println(\"Hello, world!\");\n",
    "    break;\n",
    "    System.out.println(\"after break\");\n",
    "}\n",
    "\n",
    "System.out.println(\"Loop finished.\")"
   ]
  },
  {
   "cell_type": "code",
   "execution_count": 16,
   "metadata": {},
   "outputs": [
    {
     "name": "stdout",
     "output_type": "stream",
     "text": [
      "0\n",
      "1\n",
      "2\n",
      "3\n",
      "4\n",
      "5\n"
     ]
    }
   ],
   "source": [
    "int i = 0;\n",
    "\n",
    "while(true) {\n",
    "    System.out.println(i);\n",
    "    i++;\n",
    "    if ( i > 5 ) break;\n",
    "}"
   ]
  },
  {
   "cell_type": "markdown",
   "metadata": {},
   "source": [
    "---\n",
    "Keyword: continue\n",
    "---\n",
    "\n",
    "Sample: looking for all the factors of given number."
   ]
  },
  {
   "cell_type": "code",
   "execution_count": 18,
   "metadata": {},
   "outputs": [
    {
     "name": "stdout",
     "output_type": "stream",
     "text": [
      "Found a factor: 1\n",
      "Found a factor: 2\n"
     ]
    }
   ],
   "source": [
    "int x = 100;\n",
    "\n",
    "int i = 1;\n",
    "while (i <= x) {\n",
    "    if (x % i > 0) {\n",
    "        i++;\n",
    "        continue;       // like: skip... everything in CURRENT cycle.\n",
    "    }\n",
    "    System.out.println(\"Found a factor: \" + i);\n",
    "    i++;\n",
    "}"
   ]
  },
  {
   "cell_type": "markdown",
   "metadata": {},
   "source": [
    "---\n",
    "### A Game of Number Guessing"
   ]
  },
  {
   "cell_type": "code",
   "execution_count": null,
   "metadata": {},
   "outputs": [],
   "source": [
    "Scanner sc = new Scanner(System.in);\n",
    "\n",
    "int secret = (int) (Math.random()*100);\n",
    "\n",
    "while(true) {\n",
    "    int i = sc.nextInt();\n",
    "    if (i == secret) {\n",
    "        System.out.println(\"Congratulations! You got it!\");\n",
    "        break;\n",
    "    }\n",
    "    else if (i > secret)\n",
    "        System.out.println(\"Oops... your number is too big.\");\n",
    "    else\n",
    "        System.out.println(\"Hmm... your number is too small.\");\n",
    "}"
   ]
  },
  {
   "cell_type": "markdown",
   "metadata": {},
   "source": [
    "---\n",
    "Practice Time\n",
    "---\n",
    "[Khan Academy: Into the JS - While Loop](https://www.khanacademy.org/computing/computer-programming/programming/looping/e/review-loops)\n",
    "- Be noted that this is based on JavaScript, not strictly Java..."
   ]
  }
 ],
 "metadata": {
  "kernelspec": {
   "display_name": "Java",
   "language": "java",
   "name": "java"
  },
  "language_info": {
   "codemirror_mode": "java",
   "file_extension": ".jshell",
   "mimetype": "text/x-java-source",
   "name": "Java",
   "pygments_lexer": "java",
   "version": "14.0.2+12-46"
  }
 },
 "nbformat": 4,
 "nbformat_minor": 4
}
