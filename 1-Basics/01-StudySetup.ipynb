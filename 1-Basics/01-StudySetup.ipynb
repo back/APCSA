{
 "cells": [
  {
   "cell_type": "markdown",
   "metadata": {},
   "source": [
    "# Text Book\n",
    "\n",
    "- Student Text Book\n",
    "\n",
    "https://www.amazon.com/AP-Computer-Science-Practice-Barrons/dp/1438012896/\n",
    "\n",
    "- Online Practice with the book (only with latest edition)\n",
    "\n",
    "http://barronsbooks.com/ap/ap-computer-sci-9/test/\n",
    "\n",
    "# Computer Setup\n",
    "### Language\n",
    "- Java (limited subset)\n",
    "\n",
    "### Why Java?\n",
    "- (Neither the fastest, nor the easiest to learn)\n",
    "- Strong Typed\n",
    "- Object Oriented\n",
    "- Machine irrelevant\n",
    "- Widely used and supported\n",
    "- Matured markets across industries \n",
    "\n",
    "### IDE (Integrated Development Environment)\n",
    "|IDE         |Platform       |Link|\n",
    "|------------|---------------|----|\n",
    "|BlueJ       | Client based  |http://bluej.org|\n",
    "|Dr. Java    | Client based  |http://drjava.org|\n",
    "|Eclipse     | Client based  |http://eclipse.org/downloads|\n",
    "|Greenfoot   | Client based  |http://greenfoot.org/door|\n",
    "|JGrasp      | Client based  |http://jgrasp.org|\n",
    "|**IntelliJ**| Client based  |**http://jetbrains.com/idea**|\n",
    "|NetBeans    | Client based  |http://netbeans.org|\n",
    "|...         | ...           |...|\n",
    "|Repl.it     | Browser based |http://repl.it|\n",
    "|Judge0      | Browser based |https://ide.judge0.com|\n",
    "|IDE1        | Browser based |https://ideone.com|\n",
    "|CSA Academy | Browser based |https://csacademy.com/workspace/|\n",
    "|Goorm       | Browser based |https://ide.goorm.io/|\n",
    "\n",
    "### IntelliJ IDEA\n",
    "https://www.jetbrains.com/idea/download/\n"
   ]
  }
 ],
 "metadata": {
  "kernelspec": {
   "display_name": "Java",
   "language": "java",
   "name": "java"
  },
  "language_info": {
   "codemirror_mode": "java",
   "file_extension": ".jshell",
   "mimetype": "text/x-java-source",
   "name": "Java",
   "pygments_lexer": "java",
   "version": "14.0.2+12-46"
  }
 },
 "nbformat": 4,
 "nbformat_minor": 4
}
