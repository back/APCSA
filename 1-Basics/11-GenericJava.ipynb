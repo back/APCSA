{
 "cells": [
  {
   "cell_type": "markdown",
   "metadata": {},
   "source": [
    "# Generic Java\n",
    "---\n",
    "Literals\n",
    "---\n",
    "- 1, 2, 3\n",
    "- 0.00678\n",
    "- \"Hello?\"\n",
    "- true, false\n",
    "\n",
    "---\n",
    "Variables (identifiers)\n",
    "---\n",
    "- a, b, c\n",
    "- totalSummary\n",
    "- next_student_to_be_assigned\n",
    "- x0, x1, x2\n",
    "\n",
    "---\n",
    "Keywords\n",
    "---\n",
    "- https://docs.oracle.com/javase/tutorial/java/nutsandbolts/_keywords.html"
   ]
  }
 ],
 "metadata": {
  "kernelspec": {
   "display_name": "Java",
   "language": "java",
   "name": "java"
  },
  "language_info": {
   "codemirror_mode": "java",
   "file_extension": ".jshell",
   "mimetype": "text/x-java-source",
   "name": "Java",
   "pygments_lexer": "java",
   "version": "14.0.2+12-46"
  }
 },
 "nbformat": 4,
 "nbformat_minor": 4
}
