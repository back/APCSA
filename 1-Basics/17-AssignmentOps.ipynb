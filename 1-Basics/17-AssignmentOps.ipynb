{
 "cells": [
  {
   "cell_type": "markdown",
   "metadata": {},
   "source": [
    "# Assginment Operators\n",
    "---\n",
    "\n",
    "|Operator|Example|Meaning|\n",
    "|:------:|-------|-------|\n",
    "| =  | x = 2 |simple assignment|\n",
    "| += | x += 4 |x = x + 4|\n",
    "| -= | y -= 6 |y = y - 6|\n",
    "| *= | p *= 5 |p = p * 5|\n",
    "| /= | n /= 10 |n = n / 10|\n",
    "| %= | n %= 10 |n = n % 10|\n",
    "\n",
    "- All but the simple assignment are called *compound assignment operators*\n",
    "- A special rules for *chaining* assignment:"
   ]
  },
  {
   "cell_type": "code",
   "execution_count": 4,
   "metadata": {},
   "outputs": [
    {
     "name": "stdout",
     "output_type": "stream",
     "text": [
      "1\n",
      "1\n",
      "1\n"
     ]
    }
   ],
   "source": [
    "int a, b, c;\n",
    "\n",
    "a = b = c = 1;\n",
    "\n",
    "System.out.println(a);\n",
    "System.out.println(b);\n",
    "System.out.println(c);"
   ]
  },
  {
   "cell_type": "code",
   "execution_count": 2,
   "metadata": {},
   "outputs": [
    {
     "name": "stdout",
     "output_type": "stream",
     "text": [
      "false\n"
     ]
    }
   ],
   "source": [
    "System.out.println( 10 == 7 );"
   ]
  },
  {
   "cell_type": "markdown",
   "metadata": {},
   "source": [
    "---\n",
    "Increment/Decrement Operators\n",
    "---\n",
    "\n",
    "- A quick shorthand for increment or decrement on a variable\n",
    "\n",
    "|Operator|Example|Meaning|\n",
    "|:------:|-------|-------|\n",
    "|++ |i++ or ++i |i = i + 1|\n",
    "|-- |k-- or --k |k = k - 1|"
   ]
  },
  {
   "cell_type": "code",
   "execution_count": 5,
   "metadata": {},
   "outputs": [
    {
     "name": "stdout",
     "output_type": "stream",
     "text": [
      "13\n",
      "10\n"
     ]
    }
   ],
   "source": [
    "int i = 10;\n",
    "\n",
    "i++;\n",
    "i++;\n",
    "i++;\n",
    "\n",
    "System.out.println(i);\n",
    "\n",
    "--i; --i; --i;\n",
    "\n",
    "System.out.println(i);"
   ]
  }
 ],
 "metadata": {
  "kernelspec": {
   "display_name": "Java",
   "language": "java",
   "name": "java"
  },
  "language_info": {
   "codemirror_mode": "java",
   "file_extension": ".jshell",
   "mimetype": "text/x-java-source",
   "name": "Java",
   "pygments_lexer": "java",
   "version": "14.0.2+12-46"
  }
 },
 "nbformat": 4,
 "nbformat_minor": 4
}
