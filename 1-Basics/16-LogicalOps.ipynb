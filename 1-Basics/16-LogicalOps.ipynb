{
 "cells": [
  {
   "cell_type": "markdown",
   "metadata": {},
   "source": [
    "# Logical Operators\n",
    "---\n",
    "|Operator|Example|Meaning|\n",
    "|:------:|-------|-------|\n",
    "|   !    | NOT   | !found |\n",
    "|   &&   | AND   | x < 3 && y > 4 |\n",
    "|  \\|\\|  | OR    | age < 20 \\|\\| height < 4 |\n",
    "\n",
    "- These operators only connect **boolean** values\n"
   ]
  },
  {
   "cell_type": "markdown",
   "metadata": {},
   "source": [
    "---\n",
    "Short-circuit evaluation\n",
    "---\n",
    "- A compound boolean expression are evaluated from **left to right**\n",
    "- It **stops** as soon as the value of the entire expression is known"
   ]
  },
  {
   "cell_type": "code",
   "execution_count": 4,
   "metadata": {},
   "outputs": [
    {
     "name": "stdout",
     "output_type": "stream",
     "text": [
      "true"
     ]
    }
   ],
   "source": [
    "int num = 12345;\n",
    "int denom = 7;\n",
    "//denom = 0;\n",
    "\n",
    "System.out.print( denom != 0 && num / denom > 1000 );"
   ]
  },
  {
   "cell_type": "markdown",
   "metadata": {},
   "source": [
    "---\n",
    "DeMorgan's Law\n",
    "---\n",
    "\n",
    "```Java\n",
    "!( a && b ) == !a || !b;\n",
    "!( a || b ) == !a && !b;\n",
    "```\n",
    "\n",
    "\n",
    "https://en.wikipedia.org/wiki/De_Morgan%27s_laws\n",
    "\n",
    "![](https://www.onlinemathlearning.com/image-files/de-morgans-law.png)"
   ]
  },
  {
   "cell_type": "markdown",
   "metadata": {},
   "source": [
    "---\n",
    "# Trinocular Operator\n",
    "\n",
    "**?:**\n",
    "\n",
    "... ? ... : ... ;"
   ]
  },
  {
   "cell_type": "code",
   "execution_count": 6,
   "metadata": {},
   "outputs": [
    {
     "name": "stdout",
     "output_type": "stream",
     "text": [
      "Large Number\n"
     ]
    }
   ],
   "source": [
    "int x = 180;\n",
    "\n",
    "System.out.println(  x < 100 ? \"Small Number\" : \"Large Number\");"
   ]
  }
 ],
 "metadata": {
  "kernelspec": {
   "display_name": "Java",
   "language": "java",
   "name": "java"
  },
  "language_info": {
   "codemirror_mode": "java",
   "file_extension": ".jshell",
   "mimetype": "text/x-java-source",
   "name": "Java",
   "pygments_lexer": "java",
   "version": "14.0.2+12-46"
  }
 },
 "nbformat": 4,
 "nbformat_minor": 4
}
