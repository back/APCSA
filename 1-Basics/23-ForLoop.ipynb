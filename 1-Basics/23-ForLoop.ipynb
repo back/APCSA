{
 "cells": [
  {
   "cell_type": "markdown",
   "metadata": {},
   "source": [
    "# For Loop\n",
    "\n",
    "```Java\n",
    "for ( ; ; ) {}\n",
    "```"
   ]
  },
  {
   "cell_type": "code",
   "execution_count": null,
   "metadata": {},
   "outputs": [],
   "source": [
    "int i = 0;\n",
    "\n",
    "\n",
    "// some other statements here....\n",
    "\n",
    "\n",
    "while( i < 15 ) {\n",
    "    System.out.println(\"check your belongings...\" + i);\n",
    "\n",
    "    // a lot of other statements...\n",
    "    \n",
    "    i++;\n",
    "}"
   ]
  },
  {
   "cell_type": "code",
   "execution_count": null,
   "metadata": {},
   "outputs": [],
   "source": [
    "\n",
    "for(int i = 100; i > 15; i = i / 2) {    \n",
    "    \n",
    "    System.out.println(\"check your belongings...\" + i);\n",
    "                       \n",
    "    // a lot of other statements...\n",
    "    \n",
    "    //break;\n",
    "    \n",
    "    //continue;\n",
    "    \n",
    "    // another batch of statements here...\n",
    "}\n"
   ]
  },
  {
   "cell_type": "markdown",
   "metadata": {},
   "source": [
    "---\n",
    "![](https://www.cs.uic.edu/~jbell/CourseNotes/C_Programming/for.jpg)\n",
    "\n",
    "---\n",
    "Remember both these keywords works the same way here:\n",
    "---\n",
    "- **break**\n",
    "- **continue**"
   ]
  },
  {
   "cell_type": "code",
   "execution_count": null,
   "metadata": {},
   "outputs": [],
   "source": [
    "for(int i = 1; i <= 20; i++) {\n",
    "    if (i % 2 == 0) continue;\n",
    "    System.out.println(\"Odd number i is: \" + i);\n",
    "}"
   ]
  },
  {
   "cell_type": "code",
   "execution_count": null,
   "metadata": {},
   "outputs": [],
   "source": [
    "for(int i = 0; i < 1000000; i++) {\n",
    "    if (i > 5) break;\n",
    "    System.out.println(\"Number i is: \" + i);\n",
    "}"
   ]
  },
  {
   "cell_type": "markdown",
   "metadata": {},
   "source": [
    "---\n",
    "Nested Loops\n",
    "---"
   ]
  },
  {
   "cell_type": "code",
   "execution_count": 8,
   "metadata": {},
   "outputs": [
    {
     "name": "stdout",
     "output_type": "stream",
     "text": [
      "##########\n"
     ]
    }
   ],
   "source": [
    "for(int j = 0; j < 10; j++) {\n",
    "    System.out.print(\"#\");\n",
    "}\n",
    "System.out.println();"
   ]
  },
  {
   "cell_type": "code",
   "execution_count": 10,
   "metadata": {},
   "outputs": [
    {
     "name": "stdout",
     "output_type": "stream",
     "text": [
      "####################\n",
      "####################\n",
      "####################\n",
      "####################\n",
      "####################\n"
     ]
    }
   ],
   "source": [
    "for(int i = 0; i < 5; i++) {\n",
    "\n",
    "    for(int j = 0; j < 20; j++) {\n",
    "        System.out.print(\"#\");\n",
    "    }\n",
    "    System.out.println();\n",
    "\n",
    "}\n"
   ]
  },
  {
   "cell_type": "code",
   "execution_count": 13,
   "metadata": {},
   "outputs": [
    {
     "name": "stdout",
     "output_type": "stream",
     "text": [
      "\n",
      "#\n",
      "####\n",
      "###\n",
      "########\n"
     ]
    }
   ],
   "source": [
    "for(int i = 0; i < 5; i++) {\n",
    "    \n",
    "    if (i%2 == 0) {\n",
    "        for(int j = 0; j < i*2; j++) {\n",
    "            System.out.print(\"#\");\n",
    "        }\n",
    "    }else {\n",
    "        for(int j = 0; j < i; j++) {\n",
    "            System.out.print(\"#\");\n",
    "        }\n",
    "    }\n",
    "    System.out.println();\n",
    "}"
   ]
  },
  {
   "cell_type": "markdown",
   "metadata": {},
   "source": [
    "---\n",
    "Post Chapter Questions Sample\n",
    "---\n",
    "23. What output will be produced by this code segment? (Ignore spacing.)"
   ]
  },
  {
   "cell_type": "code",
   "execution_count": 14,
   "metadata": {},
   "outputs": [
    {
     "name": "stdout",
     "output_type": "stream",
     "text": [
      "97531\n",
      "7531\n",
      "531\n",
      "31\n",
      "1\n"
     ]
    }
   ],
   "source": [
    "for (int i = 5; i >= 1; i--)\n",
    "{\n",
    "    for (int j = i; j >= 1; j--)\n",
    "        System.out.print(2 * j - 1);\n",
    "    System.out.println();\n",
    "}"
   ]
  },
  {
   "cell_type": "markdown",
   "metadata": {},
   "source": [
    "24. Which of the following program fragments will produce this output? (Ignorespacing.)\n",
    "\n",
    "```\n",
    "2 - - - - -\n",
    "- 4 - - - -\n",
    "- - 6 - - -\n",
    "- - - 8 - -\n",
    "- - - - 10 -\n",
    "- - - - - 12\n",
    "```"
   ]
  },
  {
   "cell_type": "code",
   "execution_count": null,
   "metadata": {},
   "outputs": [],
   "source": [
    "for (int i = 1; i <= 6; i++)\n",
    "{\n",
    "    for (int k = 1; k <= 6; k++) \n",
    "        if (k == i)\n",
    "            System.out.print(2 * k);\n",
    "        else\n",
    "            System.out.print(\"-\");\n",
    "    \n",
    "    System.out.println();\n",
    "}"
   ]
  },
  {
   "cell_type": "code",
   "execution_count": null,
   "metadata": {},
   "outputs": [],
   "source": [
    "for (int i = 1; i <= 6; i++)\n",
    "{\n",
    "    for (int k = 1; k <= i - 1; k++)\n",
    "        System.out.print(\"-\");\n",
    "    System.out.print(2 * i);\n",
    "    //for (int k = 1; k <= 6 - i; k++)  \n",
    "    for (int k = i + 1; k <= 6; k++)\n",
    "        System.out.print(\"-\");\n",
    "    System.out.println();\n",
    "}"
   ]
  },
  {
   "cell_type": "markdown",
   "metadata": {},
   "source": [
    "---\n",
    "Homework\n",
    "---\n",
    "\n",
    "https://practiceit.cs.washington.edu/problem/list\n",
    "- Chapter 2: BJP5 Self-Check **2.21 -> 2.38**"
   ]
  }
 ],
 "metadata": {
  "kernelspec": {
   "display_name": "Java",
   "language": "java",
   "name": "java"
  },
  "language_info": {
   "codemirror_mode": "java",
   "file_extension": ".jshell",
   "mimetype": "text/x-java-source",
   "name": "Java",
   "pygments_lexer": "java",
   "version": "14.0.2+12-46"
  }
 },
 "nbformat": 4,
 "nbformat_minor": 4
}
