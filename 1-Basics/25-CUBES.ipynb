{
 "cells": [
  {
   "cell_type": "markdown",
   "metadata": {},
   "source": [
    "# Solve a challenging problem: CUBES!\n",
    "<img src=\"CUBES.png\" width=\"808\">"
   ]
  },
  {
   "cell_type": "code",
   "execution_count": 26,
   "metadata": {},
   "outputs": [
    {
     "name": "stdout",
     "output_type": "stream",
     "text": [
      "17576\n",
      "19683\n"
     ]
    }
   ],
   "source": [
    "for(int c = 1; c <= 9; c++)\n",
    "    for(int u = 0; u <= 9; u++)\n",
    "        for(int b = 0; b <= 9; b++)\n",
    "            for(int e = 0; e <= 9; e++)\n",
    "                for(int s = 0; s <= 9; s++) {\n",
    "                    int sum = c+u+b+e+s;\n",
    "                    int num = c*10000 + u*1000 + b*100 + e*10 + s;  \n",
    "                    if (sum*sum*sum == num){\n",
    "                        System.out.println(num);\n",
    "                    }\n",
    "                }"
   ]
  },
  {
   "cell_type": "code",
   "execution_count": null,
   "metadata": {},
   "outputs": [],
   "source": [
    "for(int cubes=10000; cubes <= 99999; cubes++) {\n",
    "    int c = cubes / 10000;\n",
    "    int u = cubes % 10000 / 1000;...\n",
    "}"
   ]
  },
  {
   "cell_type": "code",
   "execution_count": null,
   "metadata": {},
   "outputs": [],
   "source": [
    "for(int i=22; i <= 9+8+7+6+5; i++) {\n",
    "    String s = String.valueOf(i*i*i);\n",
    "    if (s.length() == 5) {\n",
    "        int sum = 0;\n",
    "        for(char c : s.toCharArray())\n",
    "            sum += c - '0';\n",
    "        if (sum == i)\n",
    "            System.out.println(s);\n",
    "    }\n",
    "}"
   ]
  }
 ],
 "metadata": {
  "kernelspec": {
   "display_name": "Java",
   "language": "java",
   "name": "java"
  },
  "language_info": {
   "codemirror_mode": "java",
   "file_extension": ".jshell",
   "mimetype": "text/x-java-source",
   "name": "Java",
   "pygments_lexer": "java",
   "version": "14.0.2+12-46"
  }
 },
 "nbformat": 4,
 "nbformat_minor": 4
}
