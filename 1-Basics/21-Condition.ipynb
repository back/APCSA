{
 "cells": [
  {
   "cell_type": "markdown",
   "metadata": {},
   "source": [
    "# Single Statement\n",
    "- Any single command with an ending semicolon **;**\n",
    "\n",
    "# Batch Statements (Group)\n",
    "- Any multiple commands enclosed within a pair of **{ }**\n",
    "\n",
    "# Conditional Logic\n",
    "- Decision-Making control structures\n",
    "\n",
    "---\n",
    "```Java\n",
    "if ( ) { }\n",
    "```\n",
    "![](https://static.javatpoint.com/images/core/if1.png)"
   ]
  },
  {
   "cell_type": "code",
   "execution_count": 13,
   "metadata": {},
   "outputs": [
    {
     "name": "stdout",
     "output_type": "stream",
     "text": [
      "Congrats! You passed.\n"
     ]
    }
   ],
   "source": [
    "int score = 85;\n",
    "\n",
    "if (score > 60) {System.out.println(\"Congrats! You passed.\");}"
   ]
  },
  {
   "cell_type": "markdown",
   "metadata": {},
   "source": [
    "---\n",
    "```Java\n",
    "if ( ) { }\n",
    "else   { }\n",
    "```\n",
    "![](https://static.javatpoint.com/images/core/if2.png)"
   ]
  },
  {
   "cell_type": "code",
   "execution_count": 5,
   "metadata": {},
   "outputs": [
    {
     "name": "stdout",
     "output_type": "stream",
     "text": [
      "Congrats! You passed.\n"
     ]
    }
   ],
   "source": [
    "if (score > 60) {System.out.println(\"Congrats! You passed.\");}\n",
    "else            {System.out.println(\"Please try harder next time...\");}"
   ]
  },
  {
   "cell_type": "markdown",
   "metadata": {},
   "source": [
    "---\n",
    "```Java\n",
    "if      ( ) { }\n",
    "else if ( ) { }\n",
    "else if ( ) { }\n",
    "else if ( ) { }\n",
    "else        { }\n",
    "```\n",
    "![](https://static.javatpoint.com/cpages/images/elseifladder.png)"
   ]
  },
  {
   "cell_type": "code",
   "execution_count": 14,
   "metadata": {},
   "outputs": [
    {
     "name": "stdout",
     "output_type": "stream",
     "text": [
      "Excellent! You are so good in this class!\n",
      "Good job! You did well in exam!\n",
      "Congrats! You passed.\n"
     ]
    }
   ],
   "source": [
    "if      (score > 90) {System.out.println(\"Wow! You really got a flying score!\");}\n",
    "else if (score > 80) {System.out.println(\"Excellent! You are so good in this class!\");}\n",
    "else if (score > 70) {System.out.println(\"Good job! You did well in exam!\");}\n",
    "else if (score > 60) {System.out.println(\"Congrats! You passed.\");}\n",
    "else                 {System.out.println(\"Oops, please try harder next time...\");}\n"
   ]
  },
  {
   "cell_type": "markdown",
   "metadata": {},
   "source": [
    "---\n",
    "### Online Practice\n",
    "- [CodingBat Logic-1](https://codingbat.com/java/Logic-1)"
   ]
  }
 ],
 "metadata": {
  "kernelspec": {
   "display_name": "Java",
   "language": "java",
   "name": "java"
  },
  "language_info": {
   "codemirror_mode": "java",
   "file_extension": ".jshell",
   "mimetype": "text/x-java-source",
   "name": "Java",
   "pygments_lexer": "java",
   "version": "14.0.2+12-46"
  }
 },
 "nbformat": 4,
 "nbformat_minor": 4
}
