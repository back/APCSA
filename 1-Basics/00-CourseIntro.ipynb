{
 "cells": [
  {
   "cell_type": "markdown",
   "metadata": {},
   "source": [
    "# College Board\n",
    "- [College Board (wiki)](https://en.wikipedia.org/wiki/College_Board)\n",
    " - Home of **SAT, PSAT, AP, Pre-AP**\n",
    "\n",
    "# The Course\n",
    "- [AP Computer Science A](https://apstudents.collegeboard.org/courses/ap-computer-science-a)\n",
    " - Check next <ins>*Exam Dates*</ins> in above page\n",
    "\n",
    "---\n",
    "#### What about \"AP Computer Science Principles\"?\n",
    "- A prerequisite of this course in Katy ISD, TX\n",
    "- General information about data, internet, cyber security\n",
    "---\n",
    "\n",
    "# The Exam\n",
    "- [Contents Information](https://apcentral.collegeboard.org/courses/ap-computer-science-a/course)\n",
    "- [Taking the Exam](https://apcoronavirusupdates.collegeboard.org/students/taking-the-exam/computer-science-a)\n",
    "\n",
    "\n",
    "- Offered by the College Board\n",
    " - To high school students\n",
    " - Each year in early May \n",
    " - An opportunity to earn college credit as most universities recognize this course:\n",
    " - An equivalent to a first-semester course in computer science\n",
    "\n",
    "\n",
    "- Electronic Free\n",
    " - No laptop, smart phone, calculator, or other personal electronic device allowed\n",
    " - Paper and pencils Only\n",
    "\n",
    "\n",
    "- Two Sections, Total in 3 hours\n",
    " - 40 multiple-choice questions, (1:15h)\n",
    "   - **No wrong answer penalties!**\n",
    " - 4 free-response questions, (1:45h)\n",
    " \n",
    "\n",
    "If you are interested, check the equivalent sample questions **[here](https://apcentral.collegeboard.org/pdf/ap-2020exam-sample-questions-computer-science.pdf)**\n",
    "\n",
    "---\n",
    "Final Score\n",
    "---\n",
    "|AP Score|Credit|College Grade Equivalent|\n",
    "|:------:|------|:----------------------:|\n",
    "|5|Extremely well qualified|A|\n",
    "|4|Well qualified|A-, B+, B|\n",
    "|3|Qualified|B-, C+, C|\n",
    "|2|Possibly qualified|n/a|\n",
    "|1|No Recommendation|n/a|\n"
   ]
  }
 ],
 "metadata": {
  "kernelspec": {
   "display_name": "Java",
   "language": "java",
   "name": "java"
  },
  "language_info": {
   "codemirror_mode": "java",
   "file_extension": ".jshell",
   "mimetype": "text/x-java-source",
   "name": "Java",
   "pygments_lexer": "java",
   "version": "14.0.2+12-46"
  }
 },
 "nbformat": 4,
 "nbformat_minor": 4
}
