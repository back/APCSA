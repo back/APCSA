{
 "cells": [
  {
   "cell_type": "markdown",
   "metadata": {},
   "source": [
    "# Operator Precedence\n",
    "\n",
    "(Barron's Book, 7th Edition, Chapter 1, Page.67)\n",
    "\n",
    "1. !, ++, --\n",
    "2. *, /, %\n",
    "3. +, -\n",
    "4. <, >, <=, >=\n",
    "5. ==, !=\n",
    "6. &&\n",
    "7. ||\n",
    "8. =, +=, -=, *=, /=, %=\n",
    "\n",
    "---\n",
    "Unary operators\n",
    "---\n",
    "* -\n",
    "* ++\n",
    "* --\n",
    "* !\n",
    "\n",
    "---\n",
    "Binary operators\n",
    "---\n",
    "- Most operators are binary operators\n",
    "\n",
    "---\n",
    "Ternary operator\n",
    "---\n",
    "- **? :**"
   ]
  },
  {
   "cell_type": "code",
   "execution_count": 3,
   "metadata": {},
   "outputs": [
    {
     "name": "stdout",
     "output_type": "stream",
     "text": [
      "92"
     ]
    }
   ],
   "source": [
    "int x = 185;\n",
    "\n",
    "System.out.print(  x > 100 ? x / 2 : x - 10  )"
   ]
  },
  {
   "cell_type": "markdown",
   "metadata": {},
   "source": [
    "---\n",
    "Homework\n",
    "---\n",
    "- [University of Washington CS](https://practiceit.cs.washington.edu/problem/list)\n",
    " - **Chapter 2**: 1 - 20\n",
    " - [One interesting problem](https://practiceit.cs.washington.edu/problem/view/bjp5/chapter2/s18-timesOperator)"
   ]
  }
 ],
 "metadata": {
  "kernelspec": {
   "display_name": "Java",
   "language": "java",
   "name": "java"
  },
  "language_info": {
   "codemirror_mode": "java",
   "file_extension": ".jshell",
   "mimetype": "text/x-java-source",
   "name": "Java",
   "pygments_lexer": "java",
   "version": "14.0.2+12-46"
  }
 },
 "nbformat": 4,
 "nbformat_minor": 4
}
