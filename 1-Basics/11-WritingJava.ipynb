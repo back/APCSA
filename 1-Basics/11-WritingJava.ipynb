{
 "cells": [
  {
   "cell_type": "markdown",
   "metadata": {},
   "source": [
    "# Writing Java\n",
    "---\n",
    "\n",
    "# Minimal Code\n",
    "```Java\n",
    "class MyFirstClass {\n",
    "  public static void main(String[] args) {\n",
    "\n",
    "      // start your code here...\n",
    "\n",
    "  }\n",
    "}\n",
    "```\n",
    "# Comments\n",
    "There are two types of comments:\n",
    "- Block comments\n",
    "\n",
    "```Java\n",
    "    /*\n",
    "        Write anything here freely,\n",
    "        in multiple lines...    \n",
    "    */\n",
    "```\n",
    "- Line comments\n",
    "\n",
    "```Java\n",
    "    int i = 10; // start a number of 10\n",
    "    //  and we are going to use it below:\n",
    "```\n",
    "\n",
    "# Literals\n",
    "- 1, 2, 3\n",
    "- 0.00678\n",
    "- \"Hello?\"\n",
    "- true, false\n",
    "\n",
    "# Variables (identifiers)\n",
    "- a, b, c\n",
    "- totalSummary\n",
    "- next_student_to_be_assigned\n",
    "- x0, x1, x2\n",
    "\n",
    "# Keywords\n",
    "- https://docs.oracle.com/javase/tutorial/java/nutsandbolts/_keywords.html\n",
    "\n",
    "# Functions\n",
    "- Useful block of codes that takes some inputs and either:\n",
    " - Return designated outputs\n",
    " - Or does specific actions\n",
    "- It is already implemented by Java creator, by other library provider, or even by you."
   ]
  },
  {
   "cell_type": "code",
   "execution_count": null,
   "metadata": {},
   "outputs": [],
   "source": [
    "System.out.print(\"Hello, world!\")"
   ]
  },
  {
   "cell_type": "code",
   "execution_count": null,
   "metadata": {},
   "outputs": [],
   "source": [
    "System.out.print(Math.sqrt(2));"
   ]
  },
  {
   "cell_type": "code",
   "execution_count": null,
   "metadata": {},
   "outputs": [],
   "source": [
    "System.out.print(Math.sin(Math.PI/2));"
   ]
  }
 ],
 "metadata": {
  "kernelspec": {
   "display_name": "Java",
   "language": "java",
   "name": "java"
  },
  "language_info": {
   "codemirror_mode": "java",
   "file_extension": ".jshell",
   "mimetype": "text/x-java-source",
   "name": "Java",
   "pygments_lexer": "java",
   "version": "14.0.2+12-46"
  }
 },
 "nbformat": 4,
 "nbformat_minor": 4
}
