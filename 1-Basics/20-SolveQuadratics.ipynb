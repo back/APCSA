{
 "cells": [
  {
   "cell_type": "markdown",
   "metadata": {},
   "source": [
    "# Solving a Quadratic Equation\n",
    "---\n",
    "How to solve this quadratic equation in Java?\n",
    "---\n",
    "$$3x^2+8x-3=0$$\n",
    "\n",
    "#### First, to calculate the square root:\n",
    "```Java\n",
    "Math.sqrt();\n",
    "```"
   ]
  },
  {
   "cell_type": "code",
   "execution_count": 10,
   "metadata": {},
   "outputs": [
    {
     "name": "stdout",
     "output_type": "stream",
     "text": [
      "17.320508075688775"
     ]
    }
   ],
   "source": [
    "System.out.print( Math.sqrt(300) );"
   ]
  },
  {
   "cell_type": "markdown",
   "metadata": {},
   "source": [
    "---\n",
    "Then, we should remember the formula correctly:\n",
    "\n",
    "$$x = \\frac{-b\\pm\\sqrt{b^2-4ac}}{2a}$$\n",
    "\n",
    "Now we have:\n",
    "* a = 3\n",
    "* b = 8\n",
    "* c = -3\n",
    "\n",
    "Let's coding!"
   ]
  },
  {
   "cell_type": "code",
   "execution_count": 14,
   "metadata": {},
   "outputs": [
    {
     "name": "stdout",
     "output_type": "stream",
     "text": [
      "0.3333333333333333\n",
      "-3.0\n"
     ]
    }
   ],
   "source": [
    "int a = 3;\n",
    "int b = 8;\n",
    "int c = -3;\n",
    "\n",
    "double s = Math.sqrt(b*b - 4*a*c);\n",
    "System.out.println((-b+s)/(2*a));\n",
    "System.out.println((-b-s)/(2*a));"
   ]
  },
  {
   "cell_type": "markdown",
   "metadata": {},
   "source": [
    "---\n",
    "Unsolvable Equation\n",
    "---\n",
    "- Sometimes we have:\n",
    "$$b^2 - 4ac < 0$$\n",
    "- For example:\n",
    "$$3x^2+x+3=10$$\n",
    "- Then there is **NO** real number solutions\n",
    "- To avoid this case, we need to learn ***conditional logic***"
   ]
  },
  {
   "cell_type": "code",
   "execution_count": 15,
   "metadata": {},
   "outputs": [
    {
     "name": "stdout",
     "output_type": "stream",
     "text": [
      "Unsolvable equation!\n"
     ]
    }
   ],
   "source": [
    "a = 3;\n",
    "b = 5;\n",
    "c = 4;\n",
    "\n",
    "if (b*b - 4*a*c < 0) {\n",
    "    System.out.println(\"Unsolvable equation!\");\n",
    "} else {\n",
    "    double s = Math.sqrt(b*b - 4*a*c);\n",
    "    System.out.println((-b+s)/(2*a));\n",
    "    System.out.println((-b-s)/(2*a));\n",
    "}"
   ]
  }
 ],
 "metadata": {
  "kernelspec": {
   "display_name": "Java",
   "language": "java",
   "name": "java"
  },
  "language_info": {
   "codemirror_mode": "java",
   "file_extension": ".jshell",
   "mimetype": "text/x-java-source",
   "name": "Java",
   "pygments_lexer": "java",
   "version": "14.0.2+12-46"
  }
 },
 "nbformat": 4,
 "nbformat_minor": 4
}
