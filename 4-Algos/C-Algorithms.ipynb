{
 "cells": [
  {
   "cell_type": "markdown",
   "metadata": {},
   "source": [
    "# Simple Algorithms\n",
    "\n",
    "Serials Up\n",
    "https://codingbat.com/prob/p104090\n",
    "\n",
    "Find the span of a list\n",
    "https://codingbat.com/prob/p189576\n",
    "\n",
    "Balance Split of list\n",
    "https://codingbat.com/prob/p158767\n",
    "\n",
    "Count Clumps\n",
    "https://codingbat.com/prob/p193817"
   ]
  }
 ],
 "metadata": {
  "kernelspec": {
   "display_name": "Java",
   "language": "java",
   "name": "java"
  },
  "language_info": {
   "codemirror_mode": "java",
   "file_extension": ".jshell",
   "mimetype": "text/x-java-source",
   "name": "Java",
   "pygments_lexer": "java",
   "version": "14.0.2+12-46"
  }
 },
 "nbformat": 4,
 "nbformat_minor": 4
}
