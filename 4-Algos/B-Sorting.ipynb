{
 "cells": [
  {
   "cell_type": "markdown",
   "metadata": {},
   "source": [
    "# Searching\n",
    "### Sequential Search\n",
    "### Binary Search\n",
    "\n",
    "\n",
    "# Sorting\n",
    "### Selection Sort\n",
    "### Insertion Sort\n",
    "### Merge Sort\n",
    "- https://runestone.academy/runestone/books/published/apcsareview/SearchSort/mergeSort.html\n",
    "### Quick Sort\n",
    "- https://thumbs.gfycat.com/PleasantCloseEyelashpitviper-size_restricted.gif"
   ]
  },
  {
   "cell_type": "code",
   "execution_count": null,
   "metadata": {},
   "outputs": [],
   "source": [
    "pivate void swap(int i, int j)\n",
    "{ \n",
    "    int tmp = a[i];\n",
    "    a[i] = a[j];\n",
    "    a[j] = tmp;\n",
    "}"
   ]
  },
  {
   "cell_type": "markdown",
   "metadata": {},
   "source": [
    "### Homework\n",
    "\n",
    "Rune Stone\n",
    "- https://runestone.academy/runestone/books/published/apcsareview/SearchSort/binarySearch.html\n",
    "- https://runestone.academy/runestone/books/published/apcsareview/SearchSort/mergeSort.html\n",
    "\n",
    "Practice It!\n",
    "- https://practiceit.cs.washington.edu/problem/list\n",
    "  - Chapter 12 - recursion exercises\n",
    "  - Chapter 13 - Searching and sorting"
   ]
  }
 ],
 "metadata": {
  "kernelspec": {
   "display_name": "Java",
   "language": "java",
   "name": "java"
  },
  "language_info": {
   "codemirror_mode": "java",
   "file_extension": ".jshell",
   "mimetype": "text/x-java-source",
   "name": "Java",
   "pygments_lexer": "java",
   "version": "14.0.2+12-46"
  }
 },
 "nbformat": 4,
 "nbformat_minor": 4
}
