{
 "cells": [
  {
   "cell_type": "code",
   "execution_count": 6,
   "metadata": {},
   "outputs": [
    {
     "name": "stdout",
     "output_type": "stream",
     "text": [
      "18\n"
     ]
    }
   ],
   "source": [
    "String s = \"rgbrrrrbgggrrrbbbb\";\n",
    "\n",
    "System.out.println(s.length());"
   ]
  },
  {
   "cell_type": "code",
   "execution_count": 9,
   "metadata": {},
   "outputs": [
    {
     "name": "stdout",
     "output_type": "stream",
     "text": [
      "rgbrrr\n",
      "rbgggr\n",
      "rrbbbb\n"
     ]
    }
   ],
   "source": [
    "/// s, 3, 6\n",
    "int row = 3;\n",
    "int col = 6;\n",
    "String[][] pixels;\n",
    "/////////////\n",
    "\n",
    "pixels = new String[row][col];\n",
    "\n",
    "currentIndex = 0;\n",
    "\n",
    "for(int a=0; a<pixels.length; a++)\n",
    "    for(int b=0; b<pixels[0].length; b++) {\n",
    "        pixels[a][b] = s.substring(currentIndex, currentIndex + 1);\n",
    "        currentIndex++;\n",
    "    }\n",
    "\n",
    "for(int a=0; a<pixels.length; a++) {  \n",
    "    for(int b=0; b<pixels[0].length; b++) {\n",
    "        System.out.print(  pixels[a][b] );\n",
    "    }\n",
    "    System.out.println();\n",
    "}"
   ]
  },
  {
   "cell_type": "code",
   "execution_count": 14,
   "metadata": {},
   "outputs": [
    {
     "name": "stdout",
     "output_type": "stream",
     "text": [
      "13rgbrrrrbgggrrrbbbb85\n"
     ]
    }
   ],
   "source": [
    "System.out.println( 8 + 5 + s + 8 + 5 );"
   ]
  },
  {
   "cell_type": "code",
   "execution_count": 17,
   "metadata": {},
   "outputs": [
    {
     "name": "stdout",
     "output_type": "stream",
     "text": [
      "2\n"
     ]
    }
   ],
   "source": [
    "System.out.println( 8 / 3 );"
   ]
  },
  {
   "cell_type": "code",
   "execution_count": 21,
   "metadata": {},
   "outputs": [
    {
     "name": "stdout",
     "output_type": "stream",
     "text": [
      "out of IF: 10\n"
     ]
    }
   ],
   "source": [
    "int i = 10;\n",
    "\n",
    "if (i < 2 && i++ < 0) {\n",
    "    System.out.println (   i    );\n",
    "}\n",
    "\n",
    "System.out.println(\"out of IF: \" + i);"
   ]
  },
  {
   "cell_type": "code",
   "execution_count": null,
   "metadata": {},
   "outputs": [],
   "source": [
    "import java.util.ArrayList;\n",
    "import java.util.Scanner;\n",
    "\n",
    "\n",
    "ArrayList<Student> allStudents = new ArrayList<Student>();\n",
    "allStudents.size();  // <--- 0 for now.\n",
    "\n",
    "int[][] x = new int[2][3];\n",
    "\n",
    "ArrayList<ArrayList<Integer>>  matrix = new ArrayList< ArrayList<Integer>  >();\n"
   ]
  }
 ],
 "metadata": {
  "kernelspec": {
   "display_name": "Java",
   "language": "java",
   "name": "java"
  },
  "language_info": {
   "codemirror_mode": "java",
   "file_extension": ".jshell",
   "mimetype": "text/x-java-source",
   "name": "Java",
   "pygments_lexer": "java",
   "version": "14.0.2+12-46"
  }
 },
 "nbformat": 4,
 "nbformat_minor": 4
}
