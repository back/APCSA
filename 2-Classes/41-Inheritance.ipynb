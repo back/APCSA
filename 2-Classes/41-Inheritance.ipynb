{
 "cells": [
  {
   "cell_type": "markdown",
   "metadata": {},
   "source": [
    "# Inheritance\n",
    "\n",
    "### New Keyword\n",
    "\n",
    "```java\n",
    "    class MyClass extends BaseClass {\n",
    "        //...\n",
    "    }\n",
    "```\n",
    "---\n",
    "### Sample A\n",
    "![](../image/inheritance.gif)\n",
    "\n",
    "---\n",
    "### Sample B\n",
    "![](../image/inheritance.png)\n",
    "\n",
    "---\n",
    "### Single Inheritance vs Multiple Inheritance\n",
    "![](../image/single-inheritance.jpg) \n",
    "![](../image/multiple-inheritance.jpg)\n",
    "\n",
    "---\n",
    "### Java Swing Hierarchy\n",
    "![](../image/swing-hierarchy.jpg)\n",
    "https://docs.oracle.com/en/java/javase/11/docs/api/java.desktop/javax/swing/package-tree.html\n"
   ]
  }
 ],
 "metadata": {
  "kernelspec": {
   "display_name": "Java",
   "language": "java",
   "name": "java"
  },
  "language_info": {
   "codemirror_mode": "java",
   "file_extension": ".jshell",
   "mimetype": "text/x-java-source",
   "name": "Java",
   "pygments_lexer": "java",
   "version": "14.0.2+12-46"
  }
 },
 "nbformat": 4,
 "nbformat_minor": 4
}
