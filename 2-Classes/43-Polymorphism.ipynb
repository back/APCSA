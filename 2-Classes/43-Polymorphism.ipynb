{
 "cells": [
  {
   "cell_type": "markdown",
   "metadata": {},
   "source": [
    "![](../image/polymorphism.jpg)\n",
    "\n",
    "---\n",
    "### Sample A\n",
    "![](../image/polymorphism.svg)\n",
    "- \"Hello?\"\n",
    "- \"Hallo?\"\n",
    "- \"Bonjour?\"\n",
    "\n",
    "---\n",
    "### Sample B\n",
    "![](../image/polymorphism.png)"
   ]
  },
  {
   "cell_type": "markdown",
   "metadata": {},
   "source": [
    "### Homework\n",
    "\n",
    "Rune Stone Academy\n",
    "\n",
    "https://runestone.academy/runestone/books/published/apcsareview/OOBasics/ooInheritance.html\n",
    "https://runestone.academy/runestone/books/published/apcsareview/OOBasics/ooOverrideVsOverload.html\n",
    "https://runestone.academy/runestone/books/published/apcsareview/OOBasics/ooSuper.html\n",
    "https://runestone.academy/runestone/books/published/apcsareview/OOBasics/ooPoly.html\n",
    "\n",
    "\n",
    "Practice It!\n",
    "\n",
    "https://practiceit.cs.washington.edu/problem/list\n",
    "\tChapter 9\n",
    "\t\n",
    "\t\n",
    "Extra readings\n",
    "\n",
    "https://apcentral.collegeboard.org/pdf/intro-polymorphismin-umbargar.pdf?course=ap-computer-science-a\n"
   ]
  }
 ],
 "metadata": {
  "kernelspec": {
   "display_name": "Java",
   "language": "java",
   "name": "java"
  },
  "language_info": {
   "codemirror_mode": "java",
   "file_extension": ".jshell",
   "mimetype": "text/x-java-source",
   "name": "Java",
   "pygments_lexer": "java",
   "version": "14.0.2+12-46"
  }
 },
 "nbformat": 4,
 "nbformat_minor": 4
}
