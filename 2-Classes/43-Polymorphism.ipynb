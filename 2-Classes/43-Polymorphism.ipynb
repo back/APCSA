{
 "cells": [
  {
   "cell_type": "markdown",
   "metadata": {},
   "source": [
    "![](image/polymorphism.jpg)\n",
    "\n",
    "---\n",
    "### Sample A\n",
    "![](image/polymorphism.svg)\n",
    "- \"Hello?\"\n",
    "- \"Hallo?\"\n",
    "- \"Bonjour?\"\n",
    "\n",
    "---\n",
    "### Sample B\n",
    "![](image/polymorphism.png)"
   ]
  }
 ],
 "metadata": {
  "kernelspec": {
   "display_name": "Java",
   "language": "java",
   "name": "java"
  },
  "language_info": {
   "codemirror_mode": "java",
   "file_extension": ".jshell",
   "mimetype": "text/x-java-source",
   "name": "Java",
   "pygments_lexer": "java",
   "version": "14.0.2+12-46"
  }
 },
 "nbformat": 4,
 "nbformat_minor": 4
}
