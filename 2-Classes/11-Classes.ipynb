{
 "cells": [
  {
   "cell_type": "markdown",
   "metadata": {},
   "source": [
    "# OOP and OOD\n",
    "- https://en.wikipedia.org/wiki/Object-oriented_programming\n",
    "\n",
    "Procedural programming treats a program as a sequence of actions or commands, while object-oriented programming looks at a program as a group of interacting entities named objects with related data and behavior.\n",
    "\n",
    "![](image/oops.png)\n",
    "\n",
    "# Classes\n",
    "---\n",
    "- Class is a bundle of fields and methods (functions)\n",
    "- Reusable (as a **type**)\n",
    "- Can be used to create multiple **instances** (objects)\n",
    "\n",
    "---\n",
    "### New Keyword\n",
    "```java\n",
    "class MyClass{\n",
    "    //...\n",
    "}\n",
    "```\n",
    "### New Keywords\n",
    "- **static**\n",
    "  - it is used to make things directly attached to the *class*\n",
    "  - it can be used without the instance(object) of the *class*"
   ]
  },
  {
   "cell_type": "code",
   "execution_count": 3,
   "metadata": {},
   "outputs": [
    {
     "name": "stdout",
     "output_type": "stream",
     "text": [
      "3.1415926535\n",
      "331002651\n",
      "KatyISD\n"
     ]
    }
   ],
   "source": [
    "class MyTools {\n",
    "    static double PI = 3.1415926535;\n",
    "    static long US_POPULATION = 331002651;\n",
    "    \n",
    "    static String MySchoolZone() {\n",
    "        return \"KatyISD\";\n",
    "    }\n",
    "    \n",
    "    static int RandomValue(int range) {\n",
    "        return (int) (Math.random() * range);\n",
    "    }\n",
    "}\n",
    "\n",
    "System.out.println(MyTools.PI);\n",
    "System.out.println(MyTools.US_POPULATION);\n",
    "System.out.println(MyTools.MySchoolZone());"
   ]
  },
  {
   "cell_type": "code",
   "execution_count": 6,
   "metadata": {},
   "outputs": [
    {
     "name": "stdout",
     "output_type": "stream",
     "text": [
      "55\n",
      "19\n",
      "1668\n"
     ]
    }
   ],
   "source": [
    "System.out.println(MyTools.RandomValue(100));\n",
    "System.out.println(MyTools.RandomValue(100));\n",
    "System.out.println(MyTools.RandomValue(10000));"
   ]
  }
 ],
 "metadata": {
  "kernelspec": {
   "display_name": "Java",
   "language": "java",
   "name": "java"
  },
  "language_info": {
   "codemirror_mode": "java",
   "file_extension": ".jshell",
   "mimetype": "text/x-java-source",
   "name": "Java",
   "pygments_lexer": "java",
   "version": "14.0.2+12-46"
  }
 },
 "nbformat": 4,
 "nbformat_minor": 4
}
