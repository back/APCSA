{
 "cells": [
  {
   "cell_type": "markdown",
   "metadata": {},
   "source": [
    "# Classes\n",
    "---\n",
    "- Class is a bundle of fields and methods(functions)\n",
    "- Reusable (as a **type**)\n",
    "- Can be used to create multiple **instances**\n",
    "\n",
    "---\n",
    "New Keyword\n",
    "---\n",
    "- **class**"
   ]
  },
  {
   "cell_type": "code",
   "execution_count": 2,
   "metadata": {},
   "outputs": [],
   "source": [
    "class MyClass{}"
   ]
  },
  {
   "cell_type": "markdown",
   "metadata": {},
   "source": [
    "---\n",
    "New Keywords\n",
    "---\n",
    "- **static**\n",
    " - it is used to make things directly attached to the *class*"
   ]
  },
  {
   "cell_type": "code",
   "execution_count": 4,
   "metadata": {},
   "outputs": [
    {
     "name": "stdout",
     "output_type": "stream",
     "text": [
      "3.14\n",
      "331002651\n",
      "KatyISD\n",
      "88\n"
     ]
    }
   ],
   "source": [
    "class MyTools {\n",
    "    static double PI = 3.14;\n",
    "    static int US_POPULATION = 331002651;\n",
    "    \n",
    "    static String MySchoolZone() {\n",
    "        return \"KatyISD\";\n",
    "    }\n",
    "    \n",
    "    static int RandomValue(int range) {\n",
    "        return (int) (Math.random() * range);\n",
    "    }\n",
    "}\n",
    "\n",
    "System.out.println(MyTools.PI);\n",
    "System.out.println(MyTools.US_POPULATION);\n",
    "System.out.println(MyTools.MySchoolZone());\n",
    "System.out.println(MyTools.RandomValue(100));"
   ]
  },
  {
   "cell_type": "markdown",
   "metadata": {},
   "source": [
    "---\n",
    "New Keyword\n",
    "---\n",
    "- **new**\n",
    " - Creates a new **instance** of the class\n",
    " - Each instance will have it's *own* copy of non-static fields"
   ]
  },
  {
   "cell_type": "code",
   "execution_count": 8,
   "metadata": {},
   "outputs": [
    {
     "name": "stdout",
     "output_type": "stream",
     "text": [
      "100.0, 200.0\n",
      "100.0, 200.0\n",
      "\n",
      "50.0, 200.0\n",
      "100.0, 50.0\n"
     ]
    }
   ],
   "source": [
    "class Point{\n",
    "    double x = 100;\n",
    "    double y = 200;\n",
    "}\n",
    "\n",
    "Point p = new Point();\n",
    "Point q = new Point();\n",
    "\n",
    "System.out.println(p.x + \", \" + p.y);\n",
    "System.out.println(q.x + \", \" + q.y);\n",
    "System.out.println();\n",
    "\n",
    "p.x = 50;\n",
    "q.y = 50;\n",
    "\n",
    "System.out.println(p.x + \", \" + p.y);\n",
    "System.out.println(q.x + \", \" + q.y);"
   ]
  },
  {
   "cell_type": "markdown",
   "metadata": {},
   "source": [
    "---\n",
    "Add some functions to the class\n",
    "---"
   ]
  },
  {
   "cell_type": "code",
   "execution_count": 9,
   "metadata": {},
   "outputs": [
    {
     "name": "stdout",
     "output_type": "stream",
     "text": [
      "X: 100.0, Y:200.0\n",
      "X: 200.0, Y:100.0\n"
     ]
    }
   ],
   "source": [
    "public class Point {\n",
    "    \n",
    "    double x;\n",
    "    double y;\n",
    "\n",
    "    public void swap() {\n",
    "        double tmp = x;\n",
    "        x = y;\n",
    "        y = tmp;\n",
    "    }\n",
    "    \n",
    "    public void print() {\n",
    "        System.out.println(\"X: \" + x + \", Y:\" + y);\n",
    "    }\n",
    "}\n",
    "\n",
    "Point p = new Point();\n",
    "p.x = 100;\n",
    "p.y = 200;\n",
    "p.print();\n",
    "\n",
    "p.swap();\n",
    "p.print();"
   ]
  },
  {
   "cell_type": "markdown",
   "metadata": {},
   "source": [
    "---\n",
    "New Keywords\n",
    "---\n",
    "- **public**\n",
    "- **private**"
   ]
  },
  {
   "cell_type": "code",
   "execution_count": 11,
   "metadata": {},
   "outputs": [
    {
     "name": "stdout",
     "output_type": "stream",
     "text": [
      "X: 3.0, Y:4.0\n",
      "5.0\n"
     ]
    }
   ],
   "source": [
    "public class Point {\n",
    "    \n",
    "    private double x;\n",
    "    private double y;\n",
    "    \n",
    "    public void setXY( double newX, double newY ) {\n",
    "        x = newX;\n",
    "        y = newY;\n",
    "    }\n",
    "    \n",
    "    public double distanceToOrigin(){\n",
    "        double tmp = this.x * this.x + this.y * this.y;\n",
    "        double dis = Math.sqrt(tmp);\n",
    "        return dis; \n",
    "    }\n",
    "\n",
    "    public void swap() {\n",
    "        double tmp = this.x;\n",
    "        this.x = this.y;\n",
    "        this.y = tmp;\n",
    "    }\n",
    "    \n",
    "    public void print() {\n",
    "        System.out.println(\"X: \" + this.x + \", Y:\" + this.y);\n",
    "    }\n",
    "}\n",
    "\n",
    "Point p = new Point();\n",
    "p.setXY(3, 4);\n",
    "p.print();\n",
    "System.out.println(p.distanceToOrigin())"
   ]
  },
  {
   "cell_type": "markdown",
   "metadata": {},
   "source": [
    "---\n",
    "Homework\n",
    "---\n",
    "\n",
    "Practice - It!\n",
    "https://practiceit.cs.washington.edu/problem/list\n",
    "* Chapter 8"
   ]
  }
 ],
 "metadata": {
  "kernelspec": {
   "display_name": "Java",
   "language": "java",
   "name": "java"
  },
  "language_info": {
   "codemirror_mode": "java",
   "file_extension": ".jshell",
   "mimetype": "text/x-java-source",
   "name": "Java",
   "pygments_lexer": "java",
   "version": "14.0.2+12-46"
  }
 },
 "nbformat": 4,
 "nbformat_minor": 4
}
