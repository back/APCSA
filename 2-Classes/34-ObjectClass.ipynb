{
 "cells": [
  {
   "cell_type": "markdown",
   "metadata": {},
   "source": [
    "# Generic Object\n",
    "---\n",
    "Object Class\n",
    "---"
   ]
  },
  {
   "cell_type": "code",
   "execution_count": 2,
   "metadata": {},
   "outputs": [
    {
     "name": "stdout",
     "output_type": "stream",
     "text": [
      "java.lang.Object@14f79a27\n"
     ]
    }
   ],
   "source": [
    "Object x = new Object();\n",
    "System.out.println(x);"
   ]
  },
  {
   "cell_type": "markdown",
   "metadata": {},
   "source": [
    "---\n",
    "toString()\n",
    "---"
   ]
  },
  {
   "cell_type": "code",
   "execution_count": 3,
   "metadata": {},
   "outputs": [
    {
     "name": "stdout",
     "output_type": "stream",
     "text": [
      "java.lang.Object@5a9335d9\n",
      "25\n"
     ]
    }
   ],
   "source": [
    "String s = x.toString();\n",
    "System.out.println(s);\n",
    "System.out.println(s.length());"
   ]
  },
  {
   "cell_type": "markdown",
   "metadata": {},
   "source": [
    "---\n",
    "Keyword: new\n",
    "---"
   ]
  },
  {
   "cell_type": "code",
   "execution_count": 3,
   "metadata": {},
   "outputs": [
    {
     "name": "stdout",
     "output_type": "stream",
     "text": [
      "hello\n",
      "10\n",
      "534.3\n"
     ]
    }
   ],
   "source": [
    "x = new String(\"hello\"); System.out.println(x);\n",
    "\n",
    "x = new Integer(10);     System.out.println(x);\n",
    "\n",
    "x = new Double(534.3);   System.out.println(x);"
   ]
  },
  {
   "cell_type": "markdown",
   "metadata": {},
   "source": [
    "---\n",
    "Special Value: null\n",
    "---"
   ]
  },
  {
   "cell_type": "code",
   "execution_count": 4,
   "metadata": {},
   "outputs": [
    {
     "name": "stdout",
     "output_type": "stream",
     "text": [
      "null\n"
     ]
    }
   ],
   "source": [
    "Object z;\n",
    "System.out.println(z);"
   ]
  },
  {
   "cell_type": "markdown",
   "metadata": {},
   "source": [
    "---\n",
    "An useful method: valueOf()\n",
    "---"
   ]
  },
  {
   "cell_type": "code",
   "execution_count": 5,
   "metadata": {},
   "outputs": [
    {
     "name": "stdout",
     "output_type": "stream",
     "text": [
      "7\n",
      "3\n",
      "455\n"
     ]
    }
   ],
   "source": [
    "String s = String.valueOf(123.455);\n",
    "\n",
    "System.out.println(s.length());\n",
    "System.out.println(s.indexOf(\".\"));\n",
    "System.out.println(s.substring(3+1));"
   ]
  },
  {
   "cell_type": "code",
   "execution_count": 17,
   "metadata": {},
   "outputs": [
    {
     "name": "stdout",
     "output_type": "stream",
     "text": [
      "12.345\n",
      "24.69\n"
     ]
    }
   ],
   "source": [
    "s = \"12\" + \".\" + \"345\";\n",
    "System.out.println(s);\n",
    "\n",
    "double d = Double.valueOf(s);\n",
    "System.out.println(d * 2);"
   ]
  },
  {
   "cell_type": "code",
   "execution_count": 6,
   "metadata": {},
   "outputs": [
    {
     "name": "stdout",
     "output_type": "stream",
     "text": [
      "String     : 100\n",
      "As Decimal : 100\n",
      "As Binary  : 4\n"
     ]
    }
   ],
   "source": [
    "s = \"1\" + \"0\" + \"0\";\n",
    "System.out.println(\"String     : \" + s);\n",
    "\n",
    "int i = Integer.valueOf(s);\n",
    "System.out.println(\"As Decimal : \" + i);\n",
    "\n",
    "int i = Integer.valueOf(s, 2);\n",
    "System.out.println(\"As Binary  : \" + i);"
   ]
  },
  {
   "cell_type": "markdown",
   "metadata": {},
   "source": [
    "---\n",
    "Static Method vs Instance Method\n",
    "---\n",
    "- All Math methods are declared as static method\n",
    "- Some String/Wrapper methods are declared as static method\n",
    "- Our \"main\" method in an execuatable class must be declared as static method"
   ]
  },
  {
   "cell_type": "markdown",
   "metadata": {},
   "source": [
    "# In Class Practice\n",
    "\n",
    "https://runestone.academy/runestone/books/published/apcsareview/Strings/sEasyMC.html\n",
    "\n",
    "# A String Method Game\n",
    "\n",
    "https://csawesome.runestone.academy/runestone/books/published/csawesome/Unit2-Using-Objects/topic-2-7-string-methods.html#string-methods-game\n",
    "\n",
    "# Homework\n",
    "\n",
    "https://codingbat.com/java/String-1"
   ]
  }
 ],
 "metadata": {
  "kernelspec": {
   "display_name": "Java",
   "language": "java",
   "name": "java"
  },
  "language_info": {
   "codemirror_mode": "java",
   "file_extension": ".jshell",
   "mimetype": "text/x-java-source",
   "name": "Java",
   "pygments_lexer": "java",
   "version": "14.0.2+12-46"
  }
 },
 "nbformat": 4,
 "nbformat_minor": 4
}
