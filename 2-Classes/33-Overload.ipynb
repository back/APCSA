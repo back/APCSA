{
 "cells": [
  {
   "cell_type": "markdown",
   "metadata": {},
   "source": [
    "![](image/overloading.jpg)\n",
    "\n",
    "Method Overloading is a feature that allows a class to have more than one method having the same name, if their argument lists are different.\n",
    "\n",
    "### Three ways of Overloading\n",
    "1. Number of parameters\n",
    "```java\n",
    "    add(int, int)\n",
    "    add(int, int, int)\n",
    "```\n",
    "1. Data type of parameters\n",
    "```java\n",
    "    add(int, int)\n",
    "    add(int, float)\n",
    "```\n",
    "1. Sequence of Data type of parameters\n",
    "```java\n",
    "    add(int, float)\n",
    "    add(float, int)\n",
    "```\n",
    "\n",
    "### Invalid case of method overloading:\n",
    "- if two methods have same name, same parameters and have different return type, then this is not a valid method overloading.\n",
    "  - it will throw compilation error.\n",
    "```java\n",
    "    int add(int, int)\n",
    "    float add(int, int)\n",
    "```\n",
    "\n",
    "### A good example we've already seen:"
   ]
  },
  {
   "cell_type": "code",
   "execution_count": null,
   "metadata": {},
   "outputs": [],
   "source": [
    "System.out.println(123);\n",
    "System.out.println(6 < 9);\n",
    "System.out.println(Math.sqrt(2));\n",
    "System.out.println(\"Hello, world!\");"
   ]
  }
 ],
 "metadata": {
  "kernelspec": {
   "display_name": "Java",
   "language": "java",
   "name": "java"
  },
  "language_info": {
   "codemirror_mode": "java",
   "file_extension": ".jshell",
   "mimetype": "text/x-java-source",
   "name": "Java",
   "pygments_lexer": "java",
   "version": "14.0.2+12-46"
  }
 },
 "nbformat": 4,
 "nbformat_minor": 4
}
