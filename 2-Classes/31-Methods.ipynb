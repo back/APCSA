{
 "cells": [
  {
   "cell_type": "markdown",
   "metadata": {},
   "source": [
    "# Class Methods\n",
    "---\n",
    "### Modifiers\n",
    "- **public**\n",
    "- **private**\n",
    "- *protected*\n",
    "- *(default)*"
   ]
  },
  {
   "cell_type": "code",
   "execution_count": null,
   "metadata": {},
   "outputs": [],
   "source": [
    "public class Point {\n",
    "    \n",
    "    private double x;\n",
    "    private double y;\n",
    "    \n",
    "    public void setXY( double newX, double newY ) {\n",
    "        x = newX;\n",
    "        y = newY;\n",
    "    }\n",
    "    \n",
    "    public double distanceToOrigin(){\n",
    "        double tmp = this.x * this.x + this.y * this.y;\n",
    "        double dis = Math.sqrt(tmp);\n",
    "        return dis; \n",
    "    }\n",
    "\n",
    "    public void swap() {\n",
    "        double tmp = this.x;\n",
    "        this.x = this.y;\n",
    "        this.y = tmp;\n",
    "    }\n",
    "    \n",
    "    public void print() {\n",
    "        System.out.println(\"X: \" + this.x + \", Y:\" + this.y);\n",
    "    }\n",
    "}"
   ]
  },
  {
   "cell_type": "code",
   "execution_count": null,
   "metadata": {},
   "outputs": [],
   "source": [
    "Point p = new Point();\n",
    "p.setXY(3, 4);\n",
    "p.print();\n",
    "System.out.println(p.distanceToOrigin())"
   ]
  },
  {
   "cell_type": "markdown",
   "metadata": {},
   "source": [
    "![](image/modifier.png)\n",
    "\n",
    "---\n",
    "### Accessor & Mutator\n",
    "- **Accessor**: read-only methods\n",
    "- **Mutator**: method which update the intenal fields\n",
    "\n",
    "### State & Behavior\n",
    "- **State**: all accessors\n",
    "- **Behavior**: all mutators"
   ]
  },
  {
   "cell_type": "code",
   "execution_count": null,
   "metadata": {},
   "outputs": [],
   "source": [
    "Point a = new Point(1, 23);\n",
    "Point b = new Point(3,5);\n",
    "\n",
    "System.out.println( a.distanceToAnotherPoint(b)  );"
   ]
  }
 ],
 "metadata": {
  "kernelspec": {
   "display_name": "Java",
   "language": "java",
   "name": "java"
  },
  "language_info": {
   "codemirror_mode": "java",
   "file_extension": ".jshell",
   "mimetype": "text/x-java-source",
   "name": "Java",
   "pygments_lexer": "java",
   "version": "14.0.2+12-46"
  }
 },
 "nbformat": 4,
 "nbformat_minor": 4
}
