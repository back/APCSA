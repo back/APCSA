{
 "cells": [
  {
   "cell_type": "markdown",
   "metadata": {},
   "source": [
    "# Objects\n",
    "---\n",
    "- Objects are real instances of a class\n",
    "- You can have multiple instances of a class\n",
    "- Each instance will have it's *own* copy of non-static fields\n",
    "---\n",
    "### New Keyword\n",
    "- **new**\n",
    "\n",
    "### New Value\n",
    "- *null*"
   ]
  },
  {
   "cell_type": "code",
   "execution_count": null,
   "metadata": {},
   "outputs": [],
   "source": [
    "class Point{\n",
    "    double x = 100;\n",
    "    double y = 200;\n",
    "}"
   ]
  },
  {
   "cell_type": "code",
   "execution_count": null,
   "metadata": {},
   "outputs": [],
   "source": [
    "Point a;   // uninitialized! ==> null\n",
    "           // a.xxxx    --> error!\n",
    "System.out.print(a);"
   ]
  },
  {
   "cell_type": "code",
   "execution_count": null,
   "metadata": {},
   "outputs": [],
   "source": [
    "Point p = new Point();  // an object came into life here!\n",
    "Point q = new Point();\n",
    "\n",
    "System.out.println(p.x + \", \" + p.y);\n",
    "System.out.println(q.x + \", \" + q.y);"
   ]
  },
  {
   "cell_type": "code",
   "execution_count": null,
   "metadata": {},
   "outputs": [],
   "source": [
    "p.x = 50;\n",
    "q.y = 50;\n",
    "\n",
    "System.out.println(p.x + \", \" + p.y);\n",
    "System.out.println(q.x + \", \" + q.y);"
   ]
  },
  {
   "cell_type": "markdown",
   "metadata": {},
   "source": [
    "---\n",
    "### Non-Static Methods\n",
    "\n",
    "- Every method in java defaults to a non-static method without static keyword preceding it\n",
    "- Non-static methods can access any static method and static variable\n",
    "  - (static method can only access static data members and static methods)"
   ]
  },
  {
   "cell_type": "code",
   "execution_count": null,
   "metadata": {},
   "outputs": [],
   "source": [
    "public class Point {\n",
    "    \n",
    "    private double x=1; // fields, state\n",
    "    private double y=1;\n",
    "    \n",
    "    public void setX( double newXValue ) {\n",
    "        x = newXValue;\n",
    "    }\n",
    "    \n",
    "    public double getX() {\n",
    "        return x;\n",
    "    }\n",
    "    \n",
    "    public void goRight(){\n",
    "        x++;\n",
    "    }\n",
    "    \n",
    "    public void goUp() {\n",
    "        y++;\n",
    "    }\n",
    "    \n",
    "    double distanceToOrigin() {  // methods\n",
    "        return Math.sqrt(x*x + y*y);\n",
    "    }\n",
    "\n",
    "    public void swap() {\n",
    "        double tmp = x;\n",
    "        x = y;\n",
    "        y = tmp;\n",
    "    }\n",
    "    \n",
    "    public void print() {\n",
    "        System.out.println(\"Point X: \" + x + \", Point Y:\" + y);\n",
    "    }\n",
    "}"
   ]
  },
  {
   "cell_type": "code",
   "execution_count": null,
   "metadata": {},
   "outputs": [],
   "source": [
    "Point p = new Point();\n",
    "p.goUp();\n",
    "p.goUp();\n",
    "p.goUp();\n",
    "p.goUp();\n",
    "p.goRight();\n",
    "p.setX(100);\n",
    "p.print();\n",
    "\n",
    "p.swap();\n",
    "p.print();\n",
    "\n",
    "\n",
    "System.out.println(p.distanceToOrigin());"
   ]
  },
  {
   "cell_type": "markdown",
   "metadata": {},
   "source": [
    "### Homework\n",
    "\n",
    "Textbook - 9th Edition \n",
    "\n",
    "\tChapter 3\n",
    "\tQuestion 1 – 5\n",
    "\n",
    "Textbook – 7th Edition\n",
    "\n",
    "\tChapter 2\n",
    "\tQuestion 1 - 5\n",
    "\n",
    "\n",
    "Rune Stone\n",
    "\n",
    "https://runestone.academy/runestone/books/published/apcsareview/JavaBasics/firstOOClass.html\n",
    "https://runestone.academy/runestone/books/published/apcsareview/JavaBasics/partsOfAClass.html\n",
    "https://runestone.academy/runestone/books/published/apcsareview/OOBasics/objectsAndClasses.html\n",
    "\n",
    "Practice - It!\n",
    "https://practiceit.cs.washington.edu/problem/list\n",
    "Chapter 8\n"
   ]
  }
 ],
 "metadata": {
  "kernelspec": {
   "display_name": "Java",
   "language": "java",
   "name": "java"
  },
  "language_info": {
   "codemirror_mode": "java",
   "file_extension": ".jshell",
   "mimetype": "text/x-java-source",
   "name": "Java",
   "pygments_lexer": "java",
   "version": "14.0.2+12-46"
  }
 },
 "nbformat": 4,
 "nbformat_minor": 4
}
