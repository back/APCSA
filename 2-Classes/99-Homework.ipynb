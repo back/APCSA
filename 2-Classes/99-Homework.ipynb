{
 "cells": [
  {
   "cell_type": "markdown",
   "metadata": {},
   "source": [
    "# Homework\n",
    "[Practice - It!](https://practiceit.cs.washington.edu/problem/list) - Chapter 8\n",
    "\n",
    "# Bonus Reading\n",
    "[CS Awesome!](https://csawesome.runestone.academy/runestone/books/published/csawesome/Unit5-Writing-Classes/Exercises.html) - Chapter 5"
   ]
  }
 ],
 "metadata": {
  "kernelspec": {
   "display_name": "Java",
   "language": "java",
   "name": "java"
  },
  "language_info": {
   "codemirror_mode": "java",
   "file_extension": ".jshell",
   "mimetype": "text/x-java-source",
   "name": "Java",
   "pygments_lexer": "java",
   "version": "14.0.2+12-46"
  }
 },
 "nbformat": 4,
 "nbformat_minor": 4
}
