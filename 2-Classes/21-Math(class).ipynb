{
 "cells": [
  {
   "cell_type": "markdown",
   "metadata": {},
   "source": [
    "# Math class\n",
    "### Math.abs()"
   ]
  },
  {
   "cell_type": "code",
   "execution_count": 1,
   "metadata": {},
   "outputs": [
    {
     "name": "stdout",
     "output_type": "stream",
     "text": [
      "234.5\n",
      "123\n"
     ]
    }
   ],
   "source": [
    "System.out.println(Math.abs(-234.5));\n",
    "System.out.println(Math.abs(123));"
   ]
  },
  {
   "cell_type": "markdown",
   "metadata": {},
   "source": [
    "### Math.pow()"
   ]
  },
  {
   "cell_type": "code",
   "execution_count": 2,
   "metadata": {},
   "outputs": [
    {
     "name": "stdout",
     "output_type": "stream",
     "text": [
      "256.0\n",
      "8.0\n"
     ]
    }
   ],
   "source": [
    "System.out.println(Math.pow(2, 8));  //  2 to the power of 8\n",
    "System.out.println(Math.pow(2, 3));"
   ]
  },
  {
   "cell_type": "markdown",
   "metadata": {},
   "source": [
    "### Math.sqrt()"
   ]
  },
  {
   "cell_type": "code",
   "execution_count": null,
   "metadata": {},
   "outputs": [],
   "source": [
    "Math.sqrt(120);"
   ]
  },
  {
   "cell_type": "markdown",
   "metadata": {},
   "source": [
    "### Math.random()"
   ]
  },
  {
   "cell_type": "code",
   "execution_count": 9,
   "metadata": {},
   "outputs": [
    {
     "name": "stdout",
     "output_type": "stream",
     "text": [
      "0.6054708572190236\n",
      "0.008217875013643239\n",
      "0.16444306213295712\n",
      "0.8423026366896449\n",
      "0.5010356324958929\n",
      "0.6982208083734311\n",
      "0.483222821145189\n",
      "0.9078827970571527\n",
      "0.6950188811432896\n",
      "0.7913783955799326\n"
     ]
    }
   ],
   "source": [
    "for(int i = 0; i<10; i++)\n",
    "System.out.println(Math.random());   // range [0, 1)"
   ]
  },
  {
   "cell_type": "code",
   "execution_count": 21,
   "metadata": {},
   "outputs": [
    {
     "name": "stdout",
     "output_type": "stream",
     "text": [
      "25\n",
      "26\n",
      "27\n",
      "23\n",
      "21\n",
      "28\n",
      "23\n",
      "21\n",
      "25\n",
      "29\n"
     ]
    }
   ],
   "source": [
    "for(int i = 0; i<10; i++){\n",
    "System.out.println(  (int)    (Math.random() * 31) + 25  ); // range [25, 55) -> [25, 54]\n",
    "} "
   ]
  },
  {
   "cell_type": "code",
   "execution_count": null,
   "metadata": {},
   "outputs": [],
   "source": [
    "System.out.println(   (int)    (Math.random() * 10)    +   1       );     // range [1, 10]"
   ]
  },
  {
   "cell_type": "code",
   "execution_count": null,
   "metadata": {},
   "outputs": [],
   "source": [
    "System.out.println(   (int)    (Math.random() * 31)    +   25      );     // range [25, 55] -> [25, 56)"
   ]
  },
  {
   "cell_type": "code",
   "execution_count": null,
   "metadata": {},
   "outputs": [],
   "source": [
    "// Math.random();  // returns a random number in range [0, 1)\n",
    "\n",
    "for( int i=0; i<10; i++) {\n",
    "    double r = Math.random() * 10;  // -----> now in range [0, 10)\n",
    "    int a = (int) r + 50;           //     now in range [50, 60)\n",
    "    System.out.print(a + \", \");\n",
    "}"
   ]
  },
  {
   "cell_type": "markdown",
   "metadata": {},
   "source": [
    "### Math.PI, Math.E"
   ]
  },
  {
   "cell_type": "code",
   "execution_count": 3,
   "metadata": {},
   "outputs": [
    {
     "name": "stdout",
     "output_type": "stream",
     "text": [
      "3.141592653589793\n",
      "2.718281828459045\n"
     ]
    }
   ],
   "source": [
    "System.out.println(Math.PI);\n",
    "System.out.println(Math.E);"
   ]
  }
 ],
 "metadata": {
  "kernelspec": {
   "display_name": "Java",
   "language": "java",
   "name": "java"
  },
  "language_info": {
   "codemirror_mode": "java",
   "file_extension": ".jshell",
   "mimetype": "text/x-java-source",
   "name": "Java",
   "pygments_lexer": "java",
   "version": "14.0.2+12-46"
  }
 },
 "nbformat": 4,
 "nbformat_minor": 4
}
