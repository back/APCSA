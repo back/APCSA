{
 "cells": [
  {
   "cell_type": "markdown",
   "metadata": {},
   "source": [
    "# String Class\n",
    "---\n",
    "As literals\n",
    "---"
   ]
  },
  {
   "cell_type": "code",
   "execution_count": 1,
   "metadata": {},
   "outputs": [
    {
     "name": "stdout",
     "output_type": "stream",
     "text": [
      "Hello, world!\n",
      "The coach always yells at us, \"Never give up!\"\n",
      "\n",
      "A ship-shipping ship\n",
      "ships\n",
      "\tshipping-ships.\n"
     ]
    }
   ],
   "source": [
    "System.out.println(\"Hello, world!\");\n",
    "System.out.println(\"The coach always yells at us, \\\"Never give up!\\\"\");\n",
    "System.out.println(\"\\nA ship-shipping ship\\nships\\n\\tshipping-ships.\");"
   ]
  },
  {
   "cell_type": "markdown",
   "metadata": {},
   "source": [
    "---\n",
    "As variables\n",
    "---"
   ]
  },
  {
   "cell_type": "code",
   "execution_count": 2,
   "metadata": {},
   "outputs": [
    {
     "name": "stdout",
     "output_type": "stream",
     "text": [
      "   Hello, world!  \n"
     ]
    }
   ],
   "source": [
    "String s = \"   Hello, world!  \";  // new String(\"   Hello, world!   \")\n",
    "System.out.println(s);"
   ]
  },
  {
   "cell_type": "markdown",
   "metadata": {},
   "source": [
    "---\n",
    "It's a Class\n",
    "---\n",
    "It has attributes and methods! Fully documented reference can be found here:\n",
    "- https://docs.oracle.com/en/java/javase/15/docs/api/java.base/java/lang/String.html"
   ]
  },
  {
   "cell_type": "code",
   "execution_count": 3,
   "metadata": {},
   "outputs": [
    {
     "name": "stdout",
     "output_type": "stream",
     "text": [
      "18\n",
      "false\n",
      "Hello, world!\n"
     ]
    }
   ],
   "source": [
    "int len = s.length();\n",
    "boolean blank = s.isEmpty();\n",
    "String trimmed = s.trim();\n",
    "\n",
    "String t = \"APCSA\";\n",
    "t.length();\n",
    "t.isEmpty();\n",
    "\n",
    "\n",
    "System.out.println(len);\n",
    "System.out.println(blank);\n",
    "System.out.println(trimmed);"
   ]
  },
  {
   "cell_type": "markdown",
   "metadata": {},
   "source": [
    "---\n",
    "charAt()\n",
    "---"
   ]
  },
  {
   "cell_type": "code",
   "execution_count": 4,
   "metadata": {},
   "outputs": [
    {
     "name": "stdout",
     "output_type": "stream",
     "text": [
      "H\n",
      "l\n",
      "w\n",
      "d\n",
      "!\n"
     ]
    }
   ],
   "source": [
    "s = s.trim();\n",
    "System.out.println(s.charAt(0));\n",
    "System.out.println(s.charAt(3));\n",
    "System.out.println(s.charAt(7));\n",
    "System.out.println(s.charAt(11));\n",
    "\n",
    "\n",
    "System.out.println(s.charAt(  s.length() - 1   ));"
   ]
  },
  {
   "cell_type": "markdown",
   "metadata": {},
   "source": [
    "---\n",
    "indexOf()\n",
    "---"
   ]
  },
  {
   "cell_type": "code",
   "execution_count": 5,
   "metadata": {},
   "outputs": [
    {
     "name": "stdout",
     "output_type": "stream",
     "text": [
      "1\n",
      "5\n",
      "0\n",
      "-1\n"
     ]
    }
   ],
   "source": [
    "System.out.println(s.indexOf(\"e\"));\n",
    "System.out.println(s.indexOf(\",\"));\n",
    "System.out.println(s.indexOf(\"Hello\"));\n",
    "System.out.println(s.indexOf(\"=\"));"
   ]
  },
  {
   "cell_type": "markdown",
   "metadata": {},
   "source": [
    "---\n",
    "replace()\n",
    "---"
   ]
  },
  {
   "cell_type": "code",
   "execution_count": 6,
   "metadata": {},
   "outputs": [
    {
     "name": "stdout",
     "output_type": "stream",
     "text": [
      "HellZZZ, wZZZrld!\n"
     ]
    }
   ],
   "source": [
    "System.out.println(s.replace(\"o\", \"ZZZ\"));"
   ]
  },
  {
   "cell_type": "markdown",
   "metadata": {},
   "source": [
    "---\n",
    "substring()\n",
    "---"
   ]
  },
  {
   "cell_type": "code",
   "execution_count": 8,
   "metadata": {},
   "outputs": [
    {
     "name": "stdout",
     "output_type": "stream",
     "text": [
      "Hello, world!\n",
      "world!\n",
      "worl\n"
     ]
    }
   ],
   "source": [
    "System.out.println(s);\n",
    "System.out.println(s.substring(7));\n",
    "System.out.println(s.substring(7,11));   // [7, 11)"
   ]
  },
  {
   "cell_type": "markdown",
   "metadata": {},
   "source": [
    "---\n",
    "equals()\n",
    "---"
   ]
  },
  {
   "cell_type": "code",
   "execution_count": 9,
   "metadata": {},
   "outputs": [
    {
     "name": "stdout",
     "output_type": "stream",
     "text": [
      "Hello, world!\n",
      "Hello, world!\n",
      "false\n"
     ]
    }
   ],
   "source": [
    "String a = \"Hello, world!\";\n",
    "String b = a.substring(0, 6) + a.substring(6);\n",
    "\n",
    "System.out.println(a);\n",
    "System.out.println(b);\n",
    "\n",
    "System.out.println(a == b);"
   ]
  },
  {
   "cell_type": "code",
   "execution_count": 11,
   "metadata": {},
   "outputs": [
    {
     "name": "stdout",
     "output_type": "stream",
     "text": [
      "false\n",
      "true\n",
      "true\n",
      "true\n"
     ]
    }
   ],
   "source": [
    "System.out.println(a == b);\n",
    "\n",
    "System.out.println(a.equals(b));\n",
    "System.out.println(b.equals(a));\n",
    "\n",
    "System.out.println(b.equalsIgnoreCase(\"hello, WORLD!\"));\n"
   ]
  },
  {
   "cell_type": "code",
   "execution_count": 12,
   "metadata": {},
   "outputs": [
    {
     "name": "stdout",
     "output_type": "stream",
     "text": [
      "Hello, world!\n",
      "HellO, wOrld!\n",
      "false\n",
      "true\n"
     ]
    }
   ],
   "source": [
    "b = a.replace(\"o\", \"O\");\n",
    "\n",
    "System.out.println(a);\n",
    "System.out.println(b);\n",
    "\n",
    "System.out.println( a.equals(b)  );\n",
    "System.out.println( a.equalsIgnoreCase(b)  );"
   ]
  }
 ],
 "metadata": {
  "kernelspec": {
   "display_name": "Java",
   "language": "java",
   "name": "java"
  },
  "language_info": {
   "codemirror_mode": "java",
   "file_extension": ".jshell",
   "mimetype": "text/x-java-source",
   "name": "Java",
   "pygments_lexer": "java",
   "version": "14.0.2+12-46"
  }
 },
 "nbformat": 4,
 "nbformat_minor": 4
}
