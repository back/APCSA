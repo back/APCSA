{
 "cells": [
  {
   "cell_type": "markdown",
   "metadata": {},
   "source": [
    "# Class Constructor\n",
    "\n",
    "- It's a method:\n",
    "  - with the exact **same** name with the class\n",
    "  - does **not** have return type (even \"void\")\n",
    "  - mostly **public** but can be specified as **private**\n",
    "  - typically used to initialize the fields.."
   ]
  },
  {
   "cell_type": "code",
   "execution_count": 1,
   "metadata": {},
   "outputs": [],
   "source": [
    "public class Point {\n",
    "    \n",
    "    private double x;\n",
    "    private double y;\n",
    "    \n",
    "    //private Car c; // null.method() -> exception -> crash...\n",
    "    \n",
    "    public Point(double x, double y) {\n",
    "        this.x = x;\n",
    "        this.y = y;\n",
    "    }\n",
    "\n",
    "    public double getX() {\n",
    "        return this.x;\n",
    "    }\n",
    "    \n",
    "    public double getY() {\n",
    "        return this.y;\n",
    "    }\n",
    "\n",
    "    public void setX(double x) {\n",
    "        this.x = x;\n",
    "    }\n",
    "    \n",
    "    public void setY(double y) {\n",
    "        this.y = y;\n",
    "    }\n",
    "    \n",
    "    public double distanceToOrigin(){\n",
    "        double tmp = this.x * this.x + this.y * this.y;\n",
    "        double dis = Math.sqrt(tmp);\n",
    "        return dis; \n",
    "    }\n",
    "\n",
    "    public double distanceToAnotherPoint(Point another) {\n",
    "        double xDiff = this.x - another.getX();\n",
    "        double yDiff = this.y - another.getY();\n",
    "        return Math.sqrt(xDiff*xDiff + yDiff*yDiff);\n",
    "    }\n",
    "    \n",
    "    public void printMe() {\n",
    "        System.out.println(\"X: \" + this.x + \", Y:\" + this.y);\n",
    "    }\n",
    "}"
   ]
  },
  {
   "cell_type": "markdown",
   "metadata": {},
   "source": [
    "### Constructor Determines How \"new\" keyword works:"
   ]
  },
  {
   "cell_type": "code",
   "execution_count": 3,
   "metadata": {},
   "outputs": [],
   "source": [
    "Point p = new Point(100, 200);"
   ]
  },
  {
   "cell_type": "markdown",
   "metadata": {},
   "source": [
    "### Constructor can be overloaded"
   ]
  },
  {
   "cell_type": "code",
   "execution_count": 4,
   "metadata": {},
   "outputs": [],
   "source": [
    "class Player {\n",
    "    int level;\n",
    "    String group;\n",
    "    \n",
    "    public Player(int level, String group) {\n",
    "        this.level = level;\n",
    "        this.group = group;\n",
    "    }\n",
    "\n",
    "    public Player(int level) {\n",
    "        this.level = level;\n",
    "        this.group = \"Casual\";\n",
    "    }\n",
    "    \n",
    "    public Player(String group) {\n",
    "        this.level = 0;\n",
    "        this.group = group;\n",
    "    }\n",
    "    \n",
    "    public Player() {\n",
    "        this.level = 0;\n",
    "        this.group = \"Casual\";\n",
    "    }\n",
    "}"
   ]
  },
  {
   "cell_type": "code",
   "execution_count": null,
   "metadata": {},
   "outputs": [],
   "source": [
    "Player p1 = new Player(3, \"Varsity\");\n",
    "Player p2 = new Player(3);\n",
    "Player p3 = new Player(\"Youth\");\n",
    "Player p4 = new Player();"
   ]
  },
  {
   "cell_type": "markdown",
   "metadata": {},
   "source": [
    "You can also call other methods from the constructor, including calling other constructors too."
   ]
  },
  {
   "cell_type": "code",
   "execution_count": 3,
   "metadata": {},
   "outputs": [],
   "source": [
    "class Player {\n",
    "    private int level;\n",
    "    private String group;\n",
    "    \n",
    "    public Player(int level, String group) {\n",
    "        this.level = level;\n",
    "        this.group = group;\n",
    "    }\n",
    "    \n",
    "    public Player(int level) {\n",
    "        Player(level, \"Casual\");\n",
    "    }\n",
    "    \n",
    "    public Player(String group) {\n",
    "        Player(0, group);\n",
    "    }\n",
    "    \n",
    "    public Player() {\n",
    "        Player(0, \"Casual\");\n",
    "    }\n",
    "    \n",
    "    // all the getters/setters...\n",
    "}"
   ]
  }
 ],
 "metadata": {
  "kernelspec": {
   "display_name": "Java",
   "language": "java",
   "name": "java"
  },
  "language_info": {
   "codemirror_mode": "java",
   "file_extension": ".jshell",
   "mimetype": "text/x-java-source",
   "name": "Java",
   "pygments_lexer": "java",
   "version": "14.0.2+12-46"
  }
 },
 "nbformat": 4,
 "nbformat_minor": 4
}
