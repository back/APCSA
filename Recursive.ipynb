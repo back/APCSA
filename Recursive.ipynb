{
 "cells": [
  {
   "cell_type": "markdown",
   "id": "07f1500c",
   "metadata": {},
   "source": [
    "# Recursive Method\n",
    "\n",
    "### Definition\n",
    "\n",
    "- A recursive method is a method that calls itself."
   ]
  },
  {
   "cell_type": "code",
   "execution_count": 1,
   "id": "e46f6815",
   "metadata": {},
   "outputs": [],
   "source": [
    "public void report() {\n",
    "    System.out.println(\"hello?\");\n",
    "    report();\n",
    "}"
   ]
  },
  {
   "cell_type": "markdown",
   "id": "8987dbd4",
   "metadata": {},
   "source": [
    "### General Form of recursive framework\n",
    "\n",
    "- A base case or termination condition that causes the method to end.\n",
    "- A nonbase case whose actions move the algorithm toward the base case and termination\n",
    "\n",
    "1! = 1\n",
    "\n",
    "\n",
    "4! = 4 * 3!\n",
    "5! = 5 * 4!\n",
    "6! = 6 * 5!\n",
    "...\n",
    "\n",
    "n! = n * (n-1)!\n"
   ]
  },
  {
   "cell_type": "code",
   "execution_count": 2,
   "id": "96617b01",
   "metadata": {},
   "outputs": [],
   "source": [
    "public int factorial (int n) {\n",
    "    if (n==1)\n",
    "        return 1;\n",
    "    else\n",
    "        return n * factorial(n-1);\n",
    "}"
   ]
  },
  {
   "cell_type": "code",
   "execution_count": 4,
   "id": "50314f76",
   "metadata": {},
   "outputs": [
    {
     "name": "stdout",
     "output_type": "stream",
     "text": [
      "479001600\n"
     ]
    }
   ],
   "source": [
    "System.out.println(  factorial(12)   );"
   ]
  },
  {
   "cell_type": "code",
   "execution_count": 5,
   "id": "bf375f97",
   "metadata": {},
   "outputs": [],
   "source": [
    "public int fibonacci (int n) {\n",
    "    if(n==0)\n",
    "        return 0;\n",
    "    else if (n==1)\n",
    "        return 1;\n",
    "    else\n",
    "        return fibonacci(n-1) + fibonacci(n-2);\n",
    "    \n",
    "}"
   ]
  },
  {
   "cell_type": "code",
   "execution_count": 9,
   "id": "b5466372",
   "metadata": {},
   "outputs": [
    {
     "name": "stdout",
     "output_type": "stream",
     "text": [
      "55\n"
     ]
    }
   ],
   "source": [
    "System.out.println(   fibonacci(10)   );"
   ]
  },
  {
   "cell_type": "code",
   "execution_count": null,
   "id": "0fb06b17",
   "metadata": {},
   "outputs": [],
   "source": [
    "public void solveHanoi( int level, int SourceRod, int TargetRod, int SpareRod ) {\n",
    "    \n",
    "    if(level == 1) {\n",
    "        moveDisc(level, SourceRod, TargetRod);\n",
    "    }else{\n",
    "        // step1:\n",
    "        solveHanoi(level - 1, SourceRod, SpareRod, TargetRod);\n",
    "        // step2:\n",
    "        moveDisc(level, SourceRod, TargetRod);\n",
    "        // step3:\n",
    "        solveHanoi(level - 1, SpareRod, TargetRod, SourceRod);\n",
    "    }\n",
    "    \n",
    "}"
   ]
  }
 ],
 "metadata": {
  "kernelspec": {
   "display_name": "Java",
   "language": "java",
   "name": "java"
  },
  "language_info": {
   "codemirror_mode": "java",
   "file_extension": ".jshell",
   "mimetype": "text/x-java-source",
   "name": "Java",
   "pygments_lexer": "java",
   "version": "14.0.2+12-46"
  }
 },
 "nbformat": 4,
 "nbformat_minor": 5
}
